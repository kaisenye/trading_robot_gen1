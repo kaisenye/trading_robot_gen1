{
 "cells": [
  {
   "cell_type": "code",
   "execution_count": 4,
   "metadata": {},
   "outputs": [
    {
     "ename": "ModuleNotFoundError",
     "evalue": "No module named 'yfinance'",
     "output_type": "error",
     "traceback": [
      "\u001b[0;31m---------------------------------------------------------------------------\u001b[0m",
      "\u001b[0;31mModuleNotFoundError\u001b[0m                       Traceback (most recent call last)",
      "\u001b[0;32m/var/folders/2p/_j60vtsj5xsb6ctydmsz7p4r0000gn/T/ipykernel_8937/3979507441.py\u001b[0m in \u001b[0;36m<module>\u001b[0;34m\u001b[0m\n\u001b[1;32m      5\u001b[0m \u001b[0;31m# utility library\u001b[0m\u001b[0;34m\u001b[0m\u001b[0;34m\u001b[0m\u001b[0m\n\u001b[1;32m      6\u001b[0m \u001b[0;32mfrom\u001b[0m \u001b[0mdatetime\u001b[0m \u001b[0;32mimport\u001b[0m \u001b[0mdate\u001b[0m\u001b[0;34m,\u001b[0m \u001b[0mtimedelta\u001b[0m\u001b[0;34m\u001b[0m\u001b[0;34m\u001b[0m\u001b[0m\n\u001b[0;32m----> 7\u001b[0;31m \u001b[0;32mimport\u001b[0m \u001b[0myfinance\u001b[0m \u001b[0;32mas\u001b[0m \u001b[0myf\u001b[0m\u001b[0;34m\u001b[0m\u001b[0;34m\u001b[0m\u001b[0m\n\u001b[0m\u001b[1;32m      8\u001b[0m \u001b[0;32mimport\u001b[0m \u001b[0mpandas\u001b[0m \u001b[0;32mas\u001b[0m \u001b[0mpd\u001b[0m\u001b[0;34m\u001b[0m\u001b[0;34m\u001b[0m\u001b[0m\n\u001b[1;32m      9\u001b[0m \u001b[0;32mimport\u001b[0m \u001b[0mnumpy\u001b[0m \u001b[0;32mas\u001b[0m \u001b[0mnp\u001b[0m\u001b[0;34m\u001b[0m\u001b[0;34m\u001b[0m\u001b[0m\n",
      "\u001b[0;31mModuleNotFoundError\u001b[0m: No module named 'yfinance'"
     ]
    }
   ],
   "source": [
    "'''\n",
    "Backtesting is the process of applying a trading strategy, predictive model, \n",
    "or analytical method to historical data to evaluate its accuracy and performance.\n",
    "'''\n",
    "# utility library\n",
    "from datetime import date, timedelta\n",
    "import yfinance as yf\n",
    "import pandas as pd\n",
    "import numpy as np\n",
    "from sys import modules\n",
    "from os import listdir\n",
    "import btalib\n",
    "import ta\n",
    "\n",
    "# ploting library\n",
    "import plotly.express as px\n",
    "import plotly.graph_objects as go\n",
    "from plotly.subplots import make_subplots\n",
    "\n",
    "# machine learning library\n",
    "from pmdarima.arima import AutoARIMA\n",
    "from tqdm.notebook import tqdm\n",
    "from sklearn.metrics import mean_squared_error\n",
    "\n",
    "# alpaca api\n",
    "from time import sleep \n",
    "from alpaca_trade_api.rest import REST, TimeFrame\n",
    "from alpaca_trade_api.stream import Stream\n",
    "from alpaca_trade_api.common import URL\n",
    "import alpaca_trade_api as tradeapi\n",
    "\n",
    "# user accounts\n",
    "from local_settings import alpaca_paper"
   ]
  },
  {
   "cell_type": "code",
   "execution_count": null,
   "metadata": {},
   "outputs": [],
   "source": [
    "from enum import Enum\n",
    "class TimeFrameUnit(Enum):\n",
    "    Minute = \"Min\"\n",
    "    Hour = \"Hour\"\n",
    "    Day = \"Day\"\n",
    "\n",
    "class TimeFrame:\n",
    "    def __init__(self, amount: int, unit: TimeFrameUnit):\n",
    "        self.validate(amount, unit)\n",
    "        self.__amount = amount\n",
    "        self.__unit = unit\n",
    "\n",
    "    @property\n",
    "    def amount(self):\n",
    "        return self.__amount\n",
    "\n",
    "    @amount.setter\n",
    "    def amount(self, value: int):\n",
    "        self.validate(value, self.__unit)\n",
    "        self.__amount = value\n",
    "\n",
    "    @property\n",
    "    def unit(self) -> TimeFrameUnit:\n",
    "        return self.__unit\n",
    "\n",
    "    @unit.setter\n",
    "    def unit(self, value: TimeFrameUnit):\n",
    "        self.validate(self.__amount, value)\n",
    "        self.__unit = value\n",
    "\n",
    "    # using \"value\" field for backwards compatibility\n",
    "    @property\n",
    "    def value(self):\n",
    "        return f\"{self.__amount}{self.__unit.value}\"\n",
    "\n",
    "    def __str__(self):\n",
    "        return self.value\n",
    "\n",
    "    @staticmethod\n",
    "    def validate(amount: int, unit: TimeFrameUnit):\n",
    "        if amount <= 0:\n",
    "            raise ValueError(\"Amount must be a positive integer value.\")\n",
    "\n",
    "        if unit == TimeFrameUnit.Minute and amount > 59:\n",
    "            raise ValueError(\"Second or Minute units can only be \" +\n",
    "                             \"used with amounts between 1-59.\")\n",
    "\n",
    "        if unit == TimeFrameUnit.Hour and amount > 23:\n",
    "            raise ValueError(\"Hour units can only be used with amounts 1-23\")"
   ]
  },
  {
   "cell_type": "code",
   "execution_count": null,
   "metadata": {},
   "outputs": [],
   "source": [
    "# connecting alpaca_trade_api\n",
    "api_key = alpaca_paper['api_key']\n",
    "api_secret = alpaca_paper['api_secret']\n",
    "alpaca_endpoint = alpaca_paper['alpaca_endpoint']\n",
    "\n",
    "api = tradeapi.REST(api_key,api_secret,alpaca_endpoint,api_version='v2')\n",
    "\n",
    "ORDERS_URL = \"https://paper-api.alpaca.markets/v2/orders\"\n",
    "HEADERS = {\"APCA-API-KEY-ID\":api_key, \"APCA-API-SECRET-KEY\": api_secret}\n",
    "\n",
    "\n",
    "# get account status\n",
    "account = api.get_account()\n",
    "\n",
    "# Fetch data -----------------------------------------------------------------------------------------------\n",
    "tickers = [\"AAPL\", \"SPY\"]\n",
    "\n",
    "# Get time\n",
    "#star\n",
    "\n",
    "freq = TimeFrame(1, TimeFrameUnit.Day)\n",
    "\n",
    "bars = {}\n",
    "quotes = {}\n",
    "trades = {}\n",
    "for ticker in tickers:\n",
    "    bar = api.get_bars(ticker, freq, starting_date, ending_date, adjustment='raw').df\n",
    "    quote = api.get_quotes(ticker, starting_date, ending_date, limit=10).df\n",
    "    trade = api.get_trades(ticker, starting_date, ending_date, limit=10).df\n",
    "    bars[ticker] = bar\n",
    "    quotes[ticker] = quote\n",
    "    trades[ticker] = trade"
   ]
  },
  {
   "cell_type": "code",
   "execution_count": null,
   "metadata": {},
   "outputs": [
    {
     "data": {
      "text/html": [
       "<div>\n",
       "<style scoped>\n",
       "    .dataframe tbody tr th:only-of-type {\n",
       "        vertical-align: middle;\n",
       "    }\n",
       "\n",
       "    .dataframe tbody tr th {\n",
       "        vertical-align: top;\n",
       "    }\n",
       "\n",
       "    .dataframe thead th {\n",
       "        text-align: right;\n",
       "    }\n",
       "</style>\n",
       "<table border=\"1\" class=\"dataframe\">\n",
       "  <thead>\n",
       "    <tr style=\"text-align: right;\">\n",
       "      <th></th>\n",
       "      <th>open</th>\n",
       "      <th>high</th>\n",
       "      <th>low</th>\n",
       "      <th>close</th>\n",
       "      <th>volume</th>\n",
       "      <th>trade_count</th>\n",
       "      <th>vwap</th>\n",
       "    </tr>\n",
       "    <tr>\n",
       "      <th>timestamp</th>\n",
       "      <th></th>\n",
       "      <th></th>\n",
       "      <th></th>\n",
       "      <th></th>\n",
       "      <th></th>\n",
       "      <th></th>\n",
       "      <th></th>\n",
       "    </tr>\n",
       "  </thead>\n",
       "  <tbody>\n",
       "    <tr>\n",
       "      <th>2020-01-02</th>\n",
       "      <td>323.58</td>\n",
       "      <td>324.89</td>\n",
       "      <td>322.530</td>\n",
       "      <td>324.87</td>\n",
       "      <td>59291031</td>\n",
       "      <td>304890</td>\n",
       "      <td>323.710733</td>\n",
       "    </tr>\n",
       "    <tr>\n",
       "      <th>2020-01-03</th>\n",
       "      <td>321.19</td>\n",
       "      <td>323.64</td>\n",
       "      <td>321.100</td>\n",
       "      <td>322.43</td>\n",
       "      <td>77783401</td>\n",
       "      <td>358502</td>\n",
       "      <td>322.791700</td>\n",
       "    </tr>\n",
       "    <tr>\n",
       "      <th>2020-01-06</th>\n",
       "      <td>320.44</td>\n",
       "      <td>323.73</td>\n",
       "      <td>320.360</td>\n",
       "      <td>323.73</td>\n",
       "      <td>55818808</td>\n",
       "      <td>255768</td>\n",
       "      <td>322.722357</td>\n",
       "    </tr>\n",
       "    <tr>\n",
       "      <th>2020-01-07</th>\n",
       "      <td>323.02</td>\n",
       "      <td>323.54</td>\n",
       "      <td>322.240</td>\n",
       "      <td>322.74</td>\n",
       "      <td>43415360</td>\n",
       "      <td>226065</td>\n",
       "      <td>322.688238</td>\n",
       "    </tr>\n",
       "    <tr>\n",
       "      <th>2020-01-08</th>\n",
       "      <td>322.99</td>\n",
       "      <td>325.78</td>\n",
       "      <td>322.670</td>\n",
       "      <td>324.42</td>\n",
       "      <td>68595620</td>\n",
       "      <td>340007</td>\n",
       "      <td>324.323890</td>\n",
       "    </tr>\n",
       "    <tr>\n",
       "      <th>...</th>\n",
       "      <td>...</td>\n",
       "      <td>...</td>\n",
       "      <td>...</td>\n",
       "      <td>...</td>\n",
       "      <td>...</td>\n",
       "      <td>...</td>\n",
       "      <td>...</td>\n",
       "    </tr>\n",
       "    <tr>\n",
       "      <th>2020-05-12</th>\n",
       "      <td>293.80</td>\n",
       "      <td>294.24</td>\n",
       "      <td>286.520</td>\n",
       "      <td>286.55</td>\n",
       "      <td>95999786</td>\n",
       "      <td>473668</td>\n",
       "      <td>290.175286</td>\n",
       "    </tr>\n",
       "    <tr>\n",
       "      <th>2020-05-13</th>\n",
       "      <td>285.95</td>\n",
       "      <td>287.19</td>\n",
       "      <td>278.965</td>\n",
       "      <td>281.49</td>\n",
       "      <td>144809899</td>\n",
       "      <td>833463</td>\n",
       "      <td>282.592780</td>\n",
       "    </tr>\n",
       "    <tr>\n",
       "      <th>2020-05-14</th>\n",
       "      <td>278.80</td>\n",
       "      <td>285.11</td>\n",
       "      <td>272.990</td>\n",
       "      <td>285.04</td>\n",
       "      <td>122040475</td>\n",
       "      <td>751988</td>\n",
       "      <td>281.007094</td>\n",
       "    </tr>\n",
       "    <tr>\n",
       "      <th>2020-05-15</th>\n",
       "      <td>282.32</td>\n",
       "      <td>286.33</td>\n",
       "      <td>281.340</td>\n",
       "      <td>286.29</td>\n",
       "      <td>111233031</td>\n",
       "      <td>541432</td>\n",
       "      <td>284.426422</td>\n",
       "    </tr>\n",
       "    <tr>\n",
       "      <th>2020-05-18</th>\n",
       "      <td>292.92</td>\n",
       "      <td>296.75</td>\n",
       "      <td>292.700</td>\n",
       "      <td>294.94</td>\n",
       "      <td>120320734</td>\n",
       "      <td>574740</td>\n",
       "      <td>293.868053</td>\n",
       "    </tr>\n",
       "  </tbody>\n",
       "</table>\n",
       "<p>95 rows × 7 columns</p>\n",
       "</div>"
      ],
      "text/plain": [
       "              open    high      low   close     volume  trade_count  \\\n",
       "timestamp                                                             \n",
       "2020-01-02  323.58  324.89  322.530  324.87   59291031       304890   \n",
       "2020-01-03  321.19  323.64  321.100  322.43   77783401       358502   \n",
       "2020-01-06  320.44  323.73  320.360  323.73   55818808       255768   \n",
       "2020-01-07  323.02  323.54  322.240  322.74   43415360       226065   \n",
       "2020-01-08  322.99  325.78  322.670  324.42   68595620       340007   \n",
       "...            ...     ...      ...     ...        ...          ...   \n",
       "2020-05-12  293.80  294.24  286.520  286.55   95999786       473668   \n",
       "2020-05-13  285.95  287.19  278.965  281.49  144809899       833463   \n",
       "2020-05-14  278.80  285.11  272.990  285.04  122040475       751988   \n",
       "2020-05-15  282.32  286.33  281.340  286.29  111233031       541432   \n",
       "2020-05-18  292.92  296.75  292.700  294.94  120320734       574740   \n",
       "\n",
       "                  vwap  \n",
       "timestamp               \n",
       "2020-01-02  323.710733  \n",
       "2020-01-03  322.791700  \n",
       "2020-01-06  322.722357  \n",
       "2020-01-07  322.688238  \n",
       "2020-01-08  324.323890  \n",
       "...                ...  \n",
       "2020-05-12  290.175286  \n",
       "2020-05-13  282.592780  \n",
       "2020-05-14  281.007094  \n",
       "2020-05-15  284.426422  \n",
       "2020-05-18  293.868053  \n",
       "\n",
       "[95 rows x 7 columns]"
      ]
     },
     "execution_count": 186,
     "metadata": {},
     "output_type": "execute_result"
    }
   ],
   "source": [
    "# Select one stocks to analyze\n",
    "stock = \"SPY\" # modify to select stock\n",
    "df = bars[stock] \n",
    "df = df.reset_index()\n",
    "df['timestamp'] = df['timestamp'].dt.date\n",
    "df.set_index('timestamp')"
   ]
  },
  {
   "cell_type": "code",
   "execution_count": null,
   "metadata": {},
   "outputs": [],
   "source": [
    "# Calcultae indicators\n",
    "df['rsi'] = ta.momentum.RSIIndicator(df['close'], window = 14).rsi()\n",
    "df['sma']= btalib.sma(df['close'], period=10).df"
   ]
  },
  {
   "cell_type": "code",
   "execution_count": null,
   "metadata": {},
   "outputs": [
    {
     "data": {
      "application/vnd.plotly.v1+json": {
       "config": {
        "plotlyServerURL": "https://plot.ly"
       },
       "data": [
        {
         "close": [
          324.87,
          322.43,
          323.73,
          322.74,
          324.42,
          326.59,
          325.64,
          327.92,
          327.42,
          328.16,
          330.86,
          332.01,
          331.29,
          331.35,
          331.8,
          328.76,
          323.51,
          326.88,
          326.62,
          327.62,
          321.75,
          324.12,
          329.06,
          332.84,
          333.93,
          332.24,
          334.75,
          335.27,
          337.44,
          337.17,
          337.6,
          336.73,
          338.32,
          336.99,
          333.45,
          322.42,
          312.59,
          311.61,
          297.7,
          296.24,
          308.9,
          300.32,
          313.05,
          302.51,
          297.43,
          276.32,
          288.41,
          274.25,
          255.24,
          270.2,
          241.065,
          254.19,
          235.69,
          240.55,
          229.4,
          222.68,
          242,
          246.79,
          260.93,
          254,
          261.56,
          257.36,
          246.04,
          251.93,
          247.95,
          264.74,
          265.18,
          274,
          278.22,
          275.63,
          283.8,
          277.75,
          278.96,
          286.54,
          281.76,
          273.17,
          279.04,
          279.01,
          282.89,
          287.1,
          285.69,
          293.15,
          290.63,
          282.83,
          283.59,
          286.15,
          284.34,
          287.7,
          292.51,
          292.62,
          286.55,
          281.49,
          285.04,
          286.29,
          294.94
         ],
         "high": [
          324.89,
          323.64,
          323.73,
          323.54,
          325.78,
          326.73,
          327.46,
          327.96,
          328.62,
          329.02,
          330.92,
          332.18,
          332.18,
          332.95,
          332.1682,
          332.53,
          325.12,
          327.85,
          328.63,
          327.91,
          327.17,
          326.16,
          330.01,
          333.09,
          334.49,
          333.9941,
          334.75,
          337.02,
          337.65,
          338.12,
          337.73,
          337.6677,
          339.08,
          338.64,
          335.81,
          333.5623,
          324.61,
          318.11,
          311.5637,
          297.892,
          309.16,
          313.84,
          313.1,
          308.47,
          298.78,
          284.19,
          288.52,
          281.94,
          266.66,
          271.4754,
          256.9,
          256.17,
          248.37,
          247.38,
          244.47,
          229.6833,
          244.1,
          256.35,
          262.8,
          260.81,
          262.43,
          263.33,
          257.6591,
          252.68,
          253.32,
          267,
          275.03,
          276,
          281.2,
          277.51,
          284.9,
          283.9407,
          280.03,
          287.3,
          286.7912,
          278.04,
          281,
          283.94,
          283.7,
          288.27,
          291.4,
          294.88,
          293.3239,
          290.6572,
          283.9,
          289.25,
          288.46,
          289.78,
          292.95,
          294,
          294.24,
          287.19,
          285.11,
          286.33,
          296.75
         ],
         "low": [
          322.53,
          321.1,
          320.36,
          322.24,
          322.67,
          325.52,
          325.2,
          325.92,
          326.844,
          327.26,
          329.45,
          330.7897,
          330.82,
          331.17,
          329.41,
          327.36,
          322.66,
          323.6038,
          326.4,
          323.54,
          320.73,
          323.22,
          327.72,
          330.67,
          332.8,
          331.6,
          331.19,
          334.684,
          336.43,
          335.56,
          336.2,
          335.21,
          337.48,
          333.6817,
          332.58,
          321.24,
          311.69,
          310.7,
          297.51,
          285.54,
          294.46,
          297.57,
          303.33,
          300.01,
          290.23,
          273.45,
          273.5,
          270.88,
          247.68,
          248.5237,
          237.36,
          237.07,
          228.02,
          232.22,
          228.5,
          218.26,
          233.8,
          239.75,
          249.05,
          251.05,
          253.53,
          256.22,
          243.9,
          244.59,
          245.22,
          248.1698,
          264.89,
          265.2542,
          275.47,
          271.41,
          275.5106,
          275.46,
          275.76,
          282.4,
          281.35,
          272.02,
          276.91,
          278.75,
          278.5,
          284.62,
          285.4,
          290.41,
          288.59,
          281.52,
          279.13,
          283.7134,
          283.78,
          287.13,
          287.68,
          289.88,
          286.52,
          278.965,
          272.99,
          281.34,
          292.7
         ],
         "open": [
          323.58,
          321.19,
          320.44,
          323.02,
          322.99,
          326.2,
          327.36,
          326.4,
          327.48,
          327.33,
          329.67,
          331.72,
          330.92,
          332.26,
          330.6,
          332.45,
          323.05,
          325.06,
          328.43,
          324.37,
          327.03,
          323.35,
          328.07,
          332.27,
          333.98,
          332.81,
          331.19,
          336.16,
          336.86,
          335.9,
          337.48,
          336.65,
          337.81,
          337.77,
          335.41,
          323.17,
          323.97,
          314.19,
          305.42,
          288.67,
          298,
          309.55,
          306.11,
          304.95,
          292.71,
          275.1,
          284.61,
          280.73,
          256.05,
          263,
          240.78,
          245.04,
          236.89,
          239.26,
          242.88,
          228,
          234.99,
          245.01,
          249.26,
          253.22,
          255.49,
          260.7,
          247.95,
          245.2,
          250.81,
          257.97,
          274.47,
          268.05,
          277.79,
          277.17,
          281.08,
          277.52,
          279.05,
          285.36,
          282.62,
          276.48,
          278.38,
          280.46,
          280.69,
          285.13,
          291.03,
          291.59,
          291.69,
          285.26,
          280.46,
          286.66,
          288.01,
          287.79,
          291.05,
          290.36,
          293.8,
          285.95,
          278.8,
          282.32,
          292.92
         ],
         "type": "candlestick",
         "x": [
          "2020-01-02",
          "2020-01-03",
          "2020-01-06",
          "2020-01-07",
          "2020-01-08",
          "2020-01-09",
          "2020-01-10",
          "2020-01-13",
          "2020-01-14",
          "2020-01-15",
          "2020-01-16",
          "2020-01-17",
          "2020-01-21",
          "2020-01-22",
          "2020-01-23",
          "2020-01-24",
          "2020-01-27",
          "2020-01-28",
          "2020-01-29",
          "2020-01-30",
          "2020-01-31",
          "2020-02-03",
          "2020-02-04",
          "2020-02-05",
          "2020-02-06",
          "2020-02-07",
          "2020-02-10",
          "2020-02-11",
          "2020-02-12",
          "2020-02-13",
          "2020-02-14",
          "2020-02-18",
          "2020-02-19",
          "2020-02-20",
          "2020-02-21",
          "2020-02-24",
          "2020-02-25",
          "2020-02-26",
          "2020-02-27",
          "2020-02-28",
          "2020-03-02",
          "2020-03-03",
          "2020-03-04",
          "2020-03-05",
          "2020-03-06",
          "2020-03-09",
          "2020-03-10",
          "2020-03-11",
          "2020-03-12",
          "2020-03-13",
          "2020-03-16",
          "2020-03-17",
          "2020-03-18",
          "2020-03-19",
          "2020-03-20",
          "2020-03-23",
          "2020-03-24",
          "2020-03-25",
          "2020-03-26",
          "2020-03-27",
          "2020-03-30",
          "2020-03-31",
          "2020-04-01",
          "2020-04-02",
          "2020-04-03",
          "2020-04-06",
          "2020-04-07",
          "2020-04-08",
          "2020-04-09",
          "2020-04-13",
          "2020-04-14",
          "2020-04-15",
          "2020-04-16",
          "2020-04-17",
          "2020-04-20",
          "2020-04-21",
          "2020-04-22",
          "2020-04-23",
          "2020-04-24",
          "2020-04-27",
          "2020-04-28",
          "2020-04-29",
          "2020-04-30",
          "2020-05-01",
          "2020-05-04",
          "2020-05-05",
          "2020-05-06",
          "2020-05-07",
          "2020-05-08",
          "2020-05-11",
          "2020-05-12",
          "2020-05-13",
          "2020-05-14",
          "2020-05-15",
          "2020-05-18"
         ],
         "xaxis": "x",
         "yaxis": "y"
        },
        {
         "mode": "lines",
         "name": "RSI",
         "type": "scatter",
         "x": [
          0,
          1,
          2,
          3,
          4,
          5,
          6,
          7,
          8,
          9,
          10,
          11,
          12,
          13,
          14,
          15,
          16,
          17,
          18,
          19,
          20,
          21,
          22,
          23,
          24,
          25,
          26,
          27,
          28,
          29,
          30,
          31,
          32,
          33,
          34,
          35,
          36,
          37,
          38,
          39,
          40,
          41,
          42,
          43,
          44,
          45,
          46,
          47,
          48,
          49,
          50,
          51,
          52,
          53,
          54,
          55,
          56,
          57,
          58,
          59,
          60,
          61,
          62,
          63,
          64,
          65,
          66,
          67,
          68,
          69,
          70,
          71,
          72,
          73,
          74,
          75,
          76,
          77,
          78,
          79,
          80,
          81,
          82,
          83,
          84,
          85,
          86,
          87,
          88,
          89,
          90,
          91,
          92,
          93,
          94
         ],
         "xaxis": "x2",
         "y": [
          null,
          null,
          null,
          null,
          null,
          null,
          null,
          null,
          null,
          null,
          null,
          null,
          null,
          72.02452896309637,
          73.21371046435956,
          55.92013779556617,
          38.852274454740694,
          49.50609067018844,
          48.79965956144936,
          51.6569635253697,
          38.185727423896836,
          44.481007781975094,
          54.81143243141664,
          60.819035818427196,
          62.372486879057945,
          58.499721849557524,
          62.248847553085035,
          62.99470725662451,
          66.01248605159198,
          65.29894585711669,
          65.93055268586396,
          63.41556704697516,
          65.97043109817045,
          62.0659436560255,
          53.06373937359694,
          35.69253771393976,
          27.159308556490586,
          26.47962760923602,
          19.1529412453513,
          18.572087417019787,
          36.54320373278762,
          31.47347506968147,
          43.90742873091004,
          37.792964776853516,
          35.24537058499011,
          27.077092417969126,
          36.19703400726769,
          31.265175709994693,
          26.119860315346287,
          35.16279825876872,
          27.979947405422436,
          34.47373129216733,
          30.323428355848975,
          32.61842414640549,
          30.163698330887783,
          28.75896972359375,
          37.736626865048756,
          39.7634054641341,
          45.41234212587138,
          43.27059745768437,
          46.24880631521615,
          44.840398007193876,
          41.198781249630734,
          43.75817855674405,
          42.41473147719329,
          49.463579007554664,
          49.63755933856876,
          53.12149417858646,
          54.73494185841072,
          53.517498052299004,
          56.78297139499869,
          53.77052764472954,
          54.29280367315106,
          57.529743034467224,
          54.889855397307585,
          50.41288227761947,
          53.22074165048482,
          53.20416029929177,
          55.15038452261677,
          57.22898142406003,
          56.28806815008152,
          60.032177035490406,
          58.218111469654175,
          52.89058069459322,
          53.338633274199786,
          54.89480961339962,
          53.53535310878253,
          55.72722979306596,
          58.72868756760012,
          58.79748173098302,
          53.4981315637281,
          49.49353411129556,
          52.197100340959075,
          53.14810691566176,
          59.19743963844589
         ],
         "yaxis": "y2"
        }
       ],
       "layout": {
        "height": 900,
        "template": {
         "data": {
          "bar": [
           {
            "error_x": {
             "color": "#2a3f5f"
            },
            "error_y": {
             "color": "#2a3f5f"
            },
            "marker": {
             "line": {
              "color": "#E5ECF6",
              "width": 0.5
             },
             "pattern": {
              "fillmode": "overlay",
              "size": 10,
              "solidity": 0.2
             }
            },
            "type": "bar"
           }
          ],
          "barpolar": [
           {
            "marker": {
             "line": {
              "color": "#E5ECF6",
              "width": 0.5
             },
             "pattern": {
              "fillmode": "overlay",
              "size": 10,
              "solidity": 0.2
             }
            },
            "type": "barpolar"
           }
          ],
          "carpet": [
           {
            "aaxis": {
             "endlinecolor": "#2a3f5f",
             "gridcolor": "white",
             "linecolor": "white",
             "minorgridcolor": "white",
             "startlinecolor": "#2a3f5f"
            },
            "baxis": {
             "endlinecolor": "#2a3f5f",
             "gridcolor": "white",
             "linecolor": "white",
             "minorgridcolor": "white",
             "startlinecolor": "#2a3f5f"
            },
            "type": "carpet"
           }
          ],
          "choropleth": [
           {
            "colorbar": {
             "outlinewidth": 0,
             "ticks": ""
            },
            "type": "choropleth"
           }
          ],
          "contour": [
           {
            "colorbar": {
             "outlinewidth": 0,
             "ticks": ""
            },
            "colorscale": [
             [
              0,
              "#0d0887"
             ],
             [
              0.1111111111111111,
              "#46039f"
             ],
             [
              0.2222222222222222,
              "#7201a8"
             ],
             [
              0.3333333333333333,
              "#9c179e"
             ],
             [
              0.4444444444444444,
              "#bd3786"
             ],
             [
              0.5555555555555556,
              "#d8576b"
             ],
             [
              0.6666666666666666,
              "#ed7953"
             ],
             [
              0.7777777777777778,
              "#fb9f3a"
             ],
             [
              0.8888888888888888,
              "#fdca26"
             ],
             [
              1,
              "#f0f921"
             ]
            ],
            "type": "contour"
           }
          ],
          "contourcarpet": [
           {
            "colorbar": {
             "outlinewidth": 0,
             "ticks": ""
            },
            "type": "contourcarpet"
           }
          ],
          "heatmap": [
           {
            "colorbar": {
             "outlinewidth": 0,
             "ticks": ""
            },
            "colorscale": [
             [
              0,
              "#0d0887"
             ],
             [
              0.1111111111111111,
              "#46039f"
             ],
             [
              0.2222222222222222,
              "#7201a8"
             ],
             [
              0.3333333333333333,
              "#9c179e"
             ],
             [
              0.4444444444444444,
              "#bd3786"
             ],
             [
              0.5555555555555556,
              "#d8576b"
             ],
             [
              0.6666666666666666,
              "#ed7953"
             ],
             [
              0.7777777777777778,
              "#fb9f3a"
             ],
             [
              0.8888888888888888,
              "#fdca26"
             ],
             [
              1,
              "#f0f921"
             ]
            ],
            "type": "heatmap"
           }
          ],
          "heatmapgl": [
           {
            "colorbar": {
             "outlinewidth": 0,
             "ticks": ""
            },
            "colorscale": [
             [
              0,
              "#0d0887"
             ],
             [
              0.1111111111111111,
              "#46039f"
             ],
             [
              0.2222222222222222,
              "#7201a8"
             ],
             [
              0.3333333333333333,
              "#9c179e"
             ],
             [
              0.4444444444444444,
              "#bd3786"
             ],
             [
              0.5555555555555556,
              "#d8576b"
             ],
             [
              0.6666666666666666,
              "#ed7953"
             ],
             [
              0.7777777777777778,
              "#fb9f3a"
             ],
             [
              0.8888888888888888,
              "#fdca26"
             ],
             [
              1,
              "#f0f921"
             ]
            ],
            "type": "heatmapgl"
           }
          ],
          "histogram": [
           {
            "marker": {
             "pattern": {
              "fillmode": "overlay",
              "size": 10,
              "solidity": 0.2
             }
            },
            "type": "histogram"
           }
          ],
          "histogram2d": [
           {
            "colorbar": {
             "outlinewidth": 0,
             "ticks": ""
            },
            "colorscale": [
             [
              0,
              "#0d0887"
             ],
             [
              0.1111111111111111,
              "#46039f"
             ],
             [
              0.2222222222222222,
              "#7201a8"
             ],
             [
              0.3333333333333333,
              "#9c179e"
             ],
             [
              0.4444444444444444,
              "#bd3786"
             ],
             [
              0.5555555555555556,
              "#d8576b"
             ],
             [
              0.6666666666666666,
              "#ed7953"
             ],
             [
              0.7777777777777778,
              "#fb9f3a"
             ],
             [
              0.8888888888888888,
              "#fdca26"
             ],
             [
              1,
              "#f0f921"
             ]
            ],
            "type": "histogram2d"
           }
          ],
          "histogram2dcontour": [
           {
            "colorbar": {
             "outlinewidth": 0,
             "ticks": ""
            },
            "colorscale": [
             [
              0,
              "#0d0887"
             ],
             [
              0.1111111111111111,
              "#46039f"
             ],
             [
              0.2222222222222222,
              "#7201a8"
             ],
             [
              0.3333333333333333,
              "#9c179e"
             ],
             [
              0.4444444444444444,
              "#bd3786"
             ],
             [
              0.5555555555555556,
              "#d8576b"
             ],
             [
              0.6666666666666666,
              "#ed7953"
             ],
             [
              0.7777777777777778,
              "#fb9f3a"
             ],
             [
              0.8888888888888888,
              "#fdca26"
             ],
             [
              1,
              "#f0f921"
             ]
            ],
            "type": "histogram2dcontour"
           }
          ],
          "mesh3d": [
           {
            "colorbar": {
             "outlinewidth": 0,
             "ticks": ""
            },
            "type": "mesh3d"
           }
          ],
          "parcoords": [
           {
            "line": {
             "colorbar": {
              "outlinewidth": 0,
              "ticks": ""
             }
            },
            "type": "parcoords"
           }
          ],
          "pie": [
           {
            "automargin": true,
            "type": "pie"
           }
          ],
          "scatter": [
           {
            "marker": {
             "colorbar": {
              "outlinewidth": 0,
              "ticks": ""
             }
            },
            "type": "scatter"
           }
          ],
          "scatter3d": [
           {
            "line": {
             "colorbar": {
              "outlinewidth": 0,
              "ticks": ""
             }
            },
            "marker": {
             "colorbar": {
              "outlinewidth": 0,
              "ticks": ""
             }
            },
            "type": "scatter3d"
           }
          ],
          "scattercarpet": [
           {
            "marker": {
             "colorbar": {
              "outlinewidth": 0,
              "ticks": ""
             }
            },
            "type": "scattercarpet"
           }
          ],
          "scattergeo": [
           {
            "marker": {
             "colorbar": {
              "outlinewidth": 0,
              "ticks": ""
             }
            },
            "type": "scattergeo"
           }
          ],
          "scattergl": [
           {
            "marker": {
             "colorbar": {
              "outlinewidth": 0,
              "ticks": ""
             }
            },
            "type": "scattergl"
           }
          ],
          "scattermapbox": [
           {
            "marker": {
             "colorbar": {
              "outlinewidth": 0,
              "ticks": ""
             }
            },
            "type": "scattermapbox"
           }
          ],
          "scatterpolar": [
           {
            "marker": {
             "colorbar": {
              "outlinewidth": 0,
              "ticks": ""
             }
            },
            "type": "scatterpolar"
           }
          ],
          "scatterpolargl": [
           {
            "marker": {
             "colorbar": {
              "outlinewidth": 0,
              "ticks": ""
             }
            },
            "type": "scatterpolargl"
           }
          ],
          "scatterternary": [
           {
            "marker": {
             "colorbar": {
              "outlinewidth": 0,
              "ticks": ""
             }
            },
            "type": "scatterternary"
           }
          ],
          "surface": [
           {
            "colorbar": {
             "outlinewidth": 0,
             "ticks": ""
            },
            "colorscale": [
             [
              0,
              "#0d0887"
             ],
             [
              0.1111111111111111,
              "#46039f"
             ],
             [
              0.2222222222222222,
              "#7201a8"
             ],
             [
              0.3333333333333333,
              "#9c179e"
             ],
             [
              0.4444444444444444,
              "#bd3786"
             ],
             [
              0.5555555555555556,
              "#d8576b"
             ],
             [
              0.6666666666666666,
              "#ed7953"
             ],
             [
              0.7777777777777778,
              "#fb9f3a"
             ],
             [
              0.8888888888888888,
              "#fdca26"
             ],
             [
              1,
              "#f0f921"
             ]
            ],
            "type": "surface"
           }
          ],
          "table": [
           {
            "cells": {
             "fill": {
              "color": "#EBF0F8"
             },
             "line": {
              "color": "white"
             }
            },
            "header": {
             "fill": {
              "color": "#C8D4E3"
             },
             "line": {
              "color": "white"
             }
            },
            "type": "table"
           }
          ]
         },
         "layout": {
          "annotationdefaults": {
           "arrowcolor": "#2a3f5f",
           "arrowhead": 0,
           "arrowwidth": 1
          },
          "autotypenumbers": "strict",
          "coloraxis": {
           "colorbar": {
            "outlinewidth": 0,
            "ticks": ""
           }
          },
          "colorscale": {
           "diverging": [
            [
             0,
             "#8e0152"
            ],
            [
             0.1,
             "#c51b7d"
            ],
            [
             0.2,
             "#de77ae"
            ],
            [
             0.3,
             "#f1b6da"
            ],
            [
             0.4,
             "#fde0ef"
            ],
            [
             0.5,
             "#f7f7f7"
            ],
            [
             0.6,
             "#e6f5d0"
            ],
            [
             0.7,
             "#b8e186"
            ],
            [
             0.8,
             "#7fbc41"
            ],
            [
             0.9,
             "#4d9221"
            ],
            [
             1,
             "#276419"
            ]
           ],
           "sequential": [
            [
             0,
             "#0d0887"
            ],
            [
             0.1111111111111111,
             "#46039f"
            ],
            [
             0.2222222222222222,
             "#7201a8"
            ],
            [
             0.3333333333333333,
             "#9c179e"
            ],
            [
             0.4444444444444444,
             "#bd3786"
            ],
            [
             0.5555555555555556,
             "#d8576b"
            ],
            [
             0.6666666666666666,
             "#ed7953"
            ],
            [
             0.7777777777777778,
             "#fb9f3a"
            ],
            [
             0.8888888888888888,
             "#fdca26"
            ],
            [
             1,
             "#f0f921"
            ]
           ],
           "sequentialminus": [
            [
             0,
             "#0d0887"
            ],
            [
             0.1111111111111111,
             "#46039f"
            ],
            [
             0.2222222222222222,
             "#7201a8"
            ],
            [
             0.3333333333333333,
             "#9c179e"
            ],
            [
             0.4444444444444444,
             "#bd3786"
            ],
            [
             0.5555555555555556,
             "#d8576b"
            ],
            [
             0.6666666666666666,
             "#ed7953"
            ],
            [
             0.7777777777777778,
             "#fb9f3a"
            ],
            [
             0.8888888888888888,
             "#fdca26"
            ],
            [
             1,
             "#f0f921"
            ]
           ]
          },
          "colorway": [
           "#636efa",
           "#EF553B",
           "#00cc96",
           "#ab63fa",
           "#FFA15A",
           "#19d3f3",
           "#FF6692",
           "#B6E880",
           "#FF97FF",
           "#FECB52"
          ],
          "font": {
           "color": "#2a3f5f"
          },
          "geo": {
           "bgcolor": "white",
           "lakecolor": "white",
           "landcolor": "#E5ECF6",
           "showlakes": true,
           "showland": true,
           "subunitcolor": "white"
          },
          "hoverlabel": {
           "align": "left"
          },
          "hovermode": "closest",
          "mapbox": {
           "style": "light"
          },
          "paper_bgcolor": "white",
          "plot_bgcolor": "#E5ECF6",
          "polar": {
           "angularaxis": {
            "gridcolor": "white",
            "linecolor": "white",
            "ticks": ""
           },
           "bgcolor": "#E5ECF6",
           "radialaxis": {
            "gridcolor": "white",
            "linecolor": "white",
            "ticks": ""
           }
          },
          "scene": {
           "xaxis": {
            "backgroundcolor": "#E5ECF6",
            "gridcolor": "white",
            "gridwidth": 2,
            "linecolor": "white",
            "showbackground": true,
            "ticks": "",
            "zerolinecolor": "white"
           },
           "yaxis": {
            "backgroundcolor": "#E5ECF6",
            "gridcolor": "white",
            "gridwidth": 2,
            "linecolor": "white",
            "showbackground": true,
            "ticks": "",
            "zerolinecolor": "white"
           },
           "zaxis": {
            "backgroundcolor": "#E5ECF6",
            "gridcolor": "white",
            "gridwidth": 2,
            "linecolor": "white",
            "showbackground": true,
            "ticks": "",
            "zerolinecolor": "white"
           }
          },
          "shapedefaults": {
           "line": {
            "color": "#2a3f5f"
           }
          },
          "ternary": {
           "aaxis": {
            "gridcolor": "white",
            "linecolor": "white",
            "ticks": ""
           },
           "baxis": {
            "gridcolor": "white",
            "linecolor": "white",
            "ticks": ""
           },
           "bgcolor": "#E5ECF6",
           "caxis": {
            "gridcolor": "white",
            "linecolor": "white",
            "ticks": ""
           }
          },
          "title": {
           "x": 0.05
          },
          "xaxis": {
           "automargin": true,
           "gridcolor": "white",
           "linecolor": "white",
           "ticks": "",
           "title": {
            "standoff": 15
           },
           "zerolinecolor": "white",
           "zerolinewidth": 2
          },
          "yaxis": {
           "automargin": true,
           "gridcolor": "white",
           "linecolor": "white",
           "ticks": "",
           "title": {
            "standoff": 15
           },
           "zerolinecolor": "white",
           "zerolinewidth": 2
          }
         }
        },
        "title": {
         "text": "SPY"
        },
        "width": 900,
        "xaxis": {
         "anchor": "y",
         "domain": [
          0,
          1
         ],
         "rangeslider": {
          "thickness": 0.05
         },
         "title": {
          "text": "Date"
         }
        },
        "xaxis2": {
         "anchor": "y2",
         "domain": [
          0,
          1
         ]
        },
        "yaxis": {
         "anchor": "x",
         "domain": [
          0.55,
          1
         ],
         "title": {
          "text": "Prices"
         }
        },
        "yaxis2": {
         "anchor": "x2",
         "domain": [
          0,
          0.45
         ]
        }
       }
      }
     },
     "metadata": {},
     "output_type": "display_data"
    }
   ],
   "source": [
    "# Create figure with secondary y-axis\n",
    "def candlestick(df):\n",
    "    fig = make_subplots(rows=2, cols=1, shared_xaxes=False, vertical_spacing=0.1)\n",
    "\n",
    "    # include candlestick with rangeselector\n",
    "    fig.append_trace(go.Candlestick(x=df['timestamp'], open=df['open'], high=df['high'], \n",
    "    low=df['low'], close=df['close']), row=1, col=1)\n",
    "\n",
    "    # include a go.Bar trace for volumes\n",
    "    # fig.add_trace(go.Bar(x=df.index, y=df['volume']), secondary_y=False)\n",
    "\n",
    "    fig.append_trace(go.Scatter(x=df.index,y=df['rsi'],\n",
    "        name='RSI',\n",
    "        mode='lines'), \n",
    "        row=2, col=1)\n",
    "\n",
    "    fig.update_xaxes(row=1, col=1, rangeslider_thickness=0.05)\n",
    "    fig.update_layout(title= stock,\n",
    "                      width=900, height=900,\n",
    "                      xaxis_title='Date',\n",
    "                      yaxis_title='Prices')\n",
    "    fig.show()\n",
    "candlestick(df)"
   ]
  },
  {
   "cell_type": "markdown",
   "metadata": {},
   "source": [
    "# Simulation"
   ]
  },
  {
   "cell_type": "code",
   "execution_count": null,
   "metadata": {},
   "outputs": [],
   "source": [
    "# create 20 days simple moving average column\n",
    "df['3_SMA'] = df['close'].rolling(window = 3, min_periods = 1).mean()\n",
    "df['3_SMA_l'] = df['close'].rolling(window = 3, min_periods = 1).min()\n",
    "df['3_SMA_h'] = df['close'].rolling(window = 3, min_periods = 1).max()"
   ]
  },
  {
   "cell_type": "code",
   "execution_count": null,
   "metadata": {},
   "outputs": [
    {
     "data": {
      "application/vnd.plotly.v1+json": {
       "config": {
        "plotlyServerURL": "https://plot.ly"
       },
       "data": [
        {
         "close": [
          324.87,
          322.43,
          323.73,
          322.74,
          324.42,
          326.59,
          325.64,
          327.92,
          327.42,
          328.16,
          330.86,
          332.01,
          331.29,
          331.35,
          331.8,
          328.76,
          323.51,
          326.88,
          326.62,
          327.62,
          321.75,
          324.12,
          329.06,
          332.84,
          333.93,
          332.24,
          334.75,
          335.27,
          337.44,
          337.17,
          337.6,
          336.73,
          338.32,
          336.99,
          333.45,
          322.42,
          312.59,
          311.61,
          297.7,
          296.24,
          308.9,
          300.32,
          313.05,
          302.51,
          297.43,
          276.32,
          288.41,
          274.25,
          255.24,
          270.2,
          241.065,
          254.19,
          235.69,
          240.55,
          229.4,
          222.68,
          242,
          246.79,
          260.93,
          254,
          261.56,
          257.36,
          246.04,
          251.93,
          247.95,
          264.74,
          265.18,
          274,
          278.22,
          275.63,
          283.8,
          277.75,
          278.96,
          286.54,
          281.76,
          273.17,
          279.04,
          279.01,
          282.89,
          287.1,
          285.69,
          293.15,
          290.63,
          282.83,
          283.59,
          286.15,
          284.34,
          287.7,
          292.51,
          292.62,
          286.55,
          281.49,
          285.04,
          286.29,
          294.94
         ],
         "high": [
          324.89,
          323.64,
          323.73,
          323.54,
          325.78,
          326.73,
          327.46,
          327.96,
          328.62,
          329.02,
          330.92,
          332.18,
          332.18,
          332.95,
          332.1682,
          332.53,
          325.12,
          327.85,
          328.63,
          327.91,
          327.17,
          326.16,
          330.01,
          333.09,
          334.49,
          333.9941,
          334.75,
          337.02,
          337.65,
          338.12,
          337.73,
          337.6677,
          339.08,
          338.64,
          335.81,
          333.5623,
          324.61,
          318.11,
          311.5637,
          297.892,
          309.16,
          313.84,
          313.1,
          308.47,
          298.78,
          284.19,
          288.52,
          281.94,
          266.66,
          271.4754,
          256.9,
          256.17,
          248.37,
          247.38,
          244.47,
          229.6833,
          244.1,
          256.35,
          262.8,
          260.81,
          262.43,
          263.33,
          257.6591,
          252.68,
          253.32,
          267,
          275.03,
          276,
          281.2,
          277.51,
          284.9,
          283.9407,
          280.03,
          287.3,
          286.7912,
          278.04,
          281,
          283.94,
          283.7,
          288.27,
          291.4,
          294.88,
          293.3239,
          290.6572,
          283.9,
          289.25,
          288.46,
          289.78,
          292.95,
          294,
          294.24,
          287.19,
          285.11,
          286.33,
          296.75
         ],
         "low": [
          322.53,
          321.1,
          320.36,
          322.24,
          322.67,
          325.52,
          325.2,
          325.92,
          326.844,
          327.26,
          329.45,
          330.7897,
          330.82,
          331.17,
          329.41,
          327.36,
          322.66,
          323.6038,
          326.4,
          323.54,
          320.73,
          323.22,
          327.72,
          330.67,
          332.8,
          331.6,
          331.19,
          334.684,
          336.43,
          335.56,
          336.2,
          335.21,
          337.48,
          333.6817,
          332.58,
          321.24,
          311.69,
          310.7,
          297.51,
          285.54,
          294.46,
          297.57,
          303.33,
          300.01,
          290.23,
          273.45,
          273.5,
          270.88,
          247.68,
          248.5237,
          237.36,
          237.07,
          228.02,
          232.22,
          228.5,
          218.26,
          233.8,
          239.75,
          249.05,
          251.05,
          253.53,
          256.22,
          243.9,
          244.59,
          245.22,
          248.1698,
          264.89,
          265.2542,
          275.47,
          271.41,
          275.5106,
          275.46,
          275.76,
          282.4,
          281.35,
          272.02,
          276.91,
          278.75,
          278.5,
          284.62,
          285.4,
          290.41,
          288.59,
          281.52,
          279.13,
          283.7134,
          283.78,
          287.13,
          287.68,
          289.88,
          286.52,
          278.965,
          272.99,
          281.34,
          292.7
         ],
         "open": [
          323.58,
          321.19,
          320.44,
          323.02,
          322.99,
          326.2,
          327.36,
          326.4,
          327.48,
          327.33,
          329.67,
          331.72,
          330.92,
          332.26,
          330.6,
          332.45,
          323.05,
          325.06,
          328.43,
          324.37,
          327.03,
          323.35,
          328.07,
          332.27,
          333.98,
          332.81,
          331.19,
          336.16,
          336.86,
          335.9,
          337.48,
          336.65,
          337.81,
          337.77,
          335.41,
          323.17,
          323.97,
          314.19,
          305.42,
          288.67,
          298,
          309.55,
          306.11,
          304.95,
          292.71,
          275.1,
          284.61,
          280.73,
          256.05,
          263,
          240.78,
          245.04,
          236.89,
          239.26,
          242.88,
          228,
          234.99,
          245.01,
          249.26,
          253.22,
          255.49,
          260.7,
          247.95,
          245.2,
          250.81,
          257.97,
          274.47,
          268.05,
          277.79,
          277.17,
          281.08,
          277.52,
          279.05,
          285.36,
          282.62,
          276.48,
          278.38,
          280.46,
          280.69,
          285.13,
          291.03,
          291.59,
          291.69,
          285.26,
          280.46,
          286.66,
          288.01,
          287.79,
          291.05,
          290.36,
          293.8,
          285.95,
          278.8,
          282.32,
          292.92
         ],
         "type": "candlestick",
         "x": [
          "2020-01-02",
          "2020-01-03",
          "2020-01-06",
          "2020-01-07",
          "2020-01-08",
          "2020-01-09",
          "2020-01-10",
          "2020-01-13",
          "2020-01-14",
          "2020-01-15",
          "2020-01-16",
          "2020-01-17",
          "2020-01-21",
          "2020-01-22",
          "2020-01-23",
          "2020-01-24",
          "2020-01-27",
          "2020-01-28",
          "2020-01-29",
          "2020-01-30",
          "2020-01-31",
          "2020-02-03",
          "2020-02-04",
          "2020-02-05",
          "2020-02-06",
          "2020-02-07",
          "2020-02-10",
          "2020-02-11",
          "2020-02-12",
          "2020-02-13",
          "2020-02-14",
          "2020-02-18",
          "2020-02-19",
          "2020-02-20",
          "2020-02-21",
          "2020-02-24",
          "2020-02-25",
          "2020-02-26",
          "2020-02-27",
          "2020-02-28",
          "2020-03-02",
          "2020-03-03",
          "2020-03-04",
          "2020-03-05",
          "2020-03-06",
          "2020-03-09",
          "2020-03-10",
          "2020-03-11",
          "2020-03-12",
          "2020-03-13",
          "2020-03-16",
          "2020-03-17",
          "2020-03-18",
          "2020-03-19",
          "2020-03-20",
          "2020-03-23",
          "2020-03-24",
          "2020-03-25",
          "2020-03-26",
          "2020-03-27",
          "2020-03-30",
          "2020-03-31",
          "2020-04-01",
          "2020-04-02",
          "2020-04-03",
          "2020-04-06",
          "2020-04-07",
          "2020-04-08",
          "2020-04-09",
          "2020-04-13",
          "2020-04-14",
          "2020-04-15",
          "2020-04-16",
          "2020-04-17",
          "2020-04-20",
          "2020-04-21",
          "2020-04-22",
          "2020-04-23",
          "2020-04-24",
          "2020-04-27",
          "2020-04-28",
          "2020-04-29",
          "2020-04-30",
          "2020-05-01",
          "2020-05-04",
          "2020-05-05",
          "2020-05-06",
          "2020-05-07",
          "2020-05-08",
          "2020-05-11",
          "2020-05-12",
          "2020-05-13",
          "2020-05-14",
          "2020-05-15",
          "2020-05-18"
         ]
        },
        {
         "mode": "lines",
         "name": "price",
         "type": "scatter",
         "x": [
          "2020-01-02",
          "2020-01-03",
          "2020-01-06",
          "2020-01-07",
          "2020-01-08",
          "2020-01-09",
          "2020-01-10",
          "2020-01-13",
          "2020-01-14",
          "2020-01-15",
          "2020-01-16",
          "2020-01-17",
          "2020-01-21",
          "2020-01-22",
          "2020-01-23",
          "2020-01-24",
          "2020-01-27",
          "2020-01-28",
          "2020-01-29",
          "2020-01-30",
          "2020-01-31",
          "2020-02-03",
          "2020-02-04",
          "2020-02-05",
          "2020-02-06",
          "2020-02-07",
          "2020-02-10",
          "2020-02-11",
          "2020-02-12",
          "2020-02-13",
          "2020-02-14",
          "2020-02-18",
          "2020-02-19",
          "2020-02-20",
          "2020-02-21",
          "2020-02-24",
          "2020-02-25",
          "2020-02-26",
          "2020-02-27",
          "2020-02-28",
          "2020-03-02",
          "2020-03-03",
          "2020-03-04",
          "2020-03-05",
          "2020-03-06",
          "2020-03-09",
          "2020-03-10",
          "2020-03-11",
          "2020-03-12",
          "2020-03-13",
          "2020-03-16",
          "2020-03-17",
          "2020-03-18",
          "2020-03-19",
          "2020-03-20",
          "2020-03-23",
          "2020-03-24",
          "2020-03-25",
          "2020-03-26",
          "2020-03-27",
          "2020-03-30",
          "2020-03-31",
          "2020-04-01",
          "2020-04-02",
          "2020-04-03",
          "2020-04-06",
          "2020-04-07",
          "2020-04-08",
          "2020-04-09",
          "2020-04-13",
          "2020-04-14",
          "2020-04-15",
          "2020-04-16",
          "2020-04-17",
          "2020-04-20",
          "2020-04-21",
          "2020-04-22",
          "2020-04-23",
          "2020-04-24",
          "2020-04-27",
          "2020-04-28",
          "2020-04-29",
          "2020-04-30",
          "2020-05-01",
          "2020-05-04",
          "2020-05-05",
          "2020-05-06",
          "2020-05-07",
          "2020-05-08",
          "2020-05-11",
          "2020-05-12",
          "2020-05-13",
          "2020-05-14",
          "2020-05-15",
          "2020-05-18"
         ],
         "y": [
          324.87,
          322.43,
          323.73,
          322.74,
          324.42,
          326.59,
          325.64,
          327.92,
          327.42,
          328.16,
          330.86,
          332.01,
          331.29,
          331.35,
          331.8,
          328.76,
          323.51,
          326.88,
          326.62,
          327.62,
          321.75,
          324.12,
          329.06,
          332.84,
          333.93,
          332.24,
          334.75,
          335.27,
          337.44,
          337.17,
          337.6,
          336.73,
          338.32,
          336.99,
          333.45,
          322.42,
          312.59,
          311.61,
          297.7,
          296.24,
          308.9,
          300.32,
          313.05,
          302.51,
          297.43,
          276.32,
          288.41,
          274.25,
          255.24,
          270.2,
          241.065,
          254.19,
          235.69,
          240.55,
          229.4,
          222.68,
          242,
          246.79,
          260.93,
          254,
          261.56,
          257.36,
          246.04,
          251.93,
          247.95,
          264.74,
          265.18,
          274,
          278.22,
          275.63,
          283.8,
          277.75,
          278.96,
          286.54,
          281.76,
          273.17,
          279.04,
          279.01,
          282.89,
          287.1,
          285.69,
          293.15,
          290.63,
          282.83,
          283.59,
          286.15,
          284.34,
          287.7,
          292.51,
          292.62,
          286.55,
          281.49,
          285.04,
          286.29,
          294.94
         ]
        },
        {
         "mode": "lines",
         "name": "SMA - low",
         "type": "scatter",
         "x": [
          "2020-01-02",
          "2020-01-03",
          "2020-01-06",
          "2020-01-07",
          "2020-01-08",
          "2020-01-09",
          "2020-01-10",
          "2020-01-13",
          "2020-01-14",
          "2020-01-15",
          "2020-01-16",
          "2020-01-17",
          "2020-01-21",
          "2020-01-22",
          "2020-01-23",
          "2020-01-24",
          "2020-01-27",
          "2020-01-28",
          "2020-01-29",
          "2020-01-30",
          "2020-01-31",
          "2020-02-03",
          "2020-02-04",
          "2020-02-05",
          "2020-02-06",
          "2020-02-07",
          "2020-02-10",
          "2020-02-11",
          "2020-02-12",
          "2020-02-13",
          "2020-02-14",
          "2020-02-18",
          "2020-02-19",
          "2020-02-20",
          "2020-02-21",
          "2020-02-24",
          "2020-02-25",
          "2020-02-26",
          "2020-02-27",
          "2020-02-28",
          "2020-03-02",
          "2020-03-03",
          "2020-03-04",
          "2020-03-05",
          "2020-03-06",
          "2020-03-09",
          "2020-03-10",
          "2020-03-11",
          "2020-03-12",
          "2020-03-13",
          "2020-03-16",
          "2020-03-17",
          "2020-03-18",
          "2020-03-19",
          "2020-03-20",
          "2020-03-23",
          "2020-03-24",
          "2020-03-25",
          "2020-03-26",
          "2020-03-27",
          "2020-03-30",
          "2020-03-31",
          "2020-04-01",
          "2020-04-02",
          "2020-04-03",
          "2020-04-06",
          "2020-04-07",
          "2020-04-08",
          "2020-04-09",
          "2020-04-13",
          "2020-04-14",
          "2020-04-15",
          "2020-04-16",
          "2020-04-17",
          "2020-04-20",
          "2020-04-21",
          "2020-04-22",
          "2020-04-23",
          "2020-04-24",
          "2020-04-27",
          "2020-04-28",
          "2020-04-29",
          "2020-04-30",
          "2020-05-01",
          "2020-05-04",
          "2020-05-05",
          "2020-05-06",
          "2020-05-07",
          "2020-05-08",
          "2020-05-11",
          "2020-05-12",
          "2020-05-13",
          "2020-05-14",
          "2020-05-15",
          "2020-05-18"
         ],
         "y": [
          324.87,
          322.43,
          322.43,
          322.43,
          322.74,
          322.74,
          324.42,
          325.64,
          325.64,
          327.42,
          327.42,
          328.16,
          330.86,
          331.29,
          331.29,
          328.76,
          323.51,
          323.51,
          323.51,
          326.62,
          321.75,
          321.75,
          321.75,
          324.12,
          329.06,
          332.24,
          332.24,
          332.24,
          334.75,
          335.27,
          337.17,
          336.73,
          336.73,
          336.73,
          333.45,
          322.42,
          312.59,
          311.61,
          297.7,
          296.24,
          296.24,
          296.24,
          300.32,
          300.32,
          297.43,
          276.32,
          276.32,
          274.25,
          255.24,
          255.24,
          241.065,
          241.065,
          235.69,
          235.69,
          229.4,
          222.68,
          222.68,
          222.68,
          242,
          246.79,
          254,
          254,
          246.04,
          246.04,
          246.04,
          247.95,
          247.95,
          264.74,
          265.18,
          274,
          275.63,
          275.63,
          277.75,
          277.75,
          278.96,
          273.17,
          273.17,
          273.17,
          279.01,
          279.01,
          282.89,
          285.69,
          285.69,
          282.83,
          282.83,
          282.83,
          283.59,
          284.34,
          284.34,
          287.7,
          286.55,
          281.49,
          281.49,
          281.49,
          285.04
         ]
        },
        {
         "mode": "lines",
         "name": "SMA - high",
         "type": "scatter",
         "x": [
          "2020-01-02",
          "2020-01-03",
          "2020-01-06",
          "2020-01-07",
          "2020-01-08",
          "2020-01-09",
          "2020-01-10",
          "2020-01-13",
          "2020-01-14",
          "2020-01-15",
          "2020-01-16",
          "2020-01-17",
          "2020-01-21",
          "2020-01-22",
          "2020-01-23",
          "2020-01-24",
          "2020-01-27",
          "2020-01-28",
          "2020-01-29",
          "2020-01-30",
          "2020-01-31",
          "2020-02-03",
          "2020-02-04",
          "2020-02-05",
          "2020-02-06",
          "2020-02-07",
          "2020-02-10",
          "2020-02-11",
          "2020-02-12",
          "2020-02-13",
          "2020-02-14",
          "2020-02-18",
          "2020-02-19",
          "2020-02-20",
          "2020-02-21",
          "2020-02-24",
          "2020-02-25",
          "2020-02-26",
          "2020-02-27",
          "2020-02-28",
          "2020-03-02",
          "2020-03-03",
          "2020-03-04",
          "2020-03-05",
          "2020-03-06",
          "2020-03-09",
          "2020-03-10",
          "2020-03-11",
          "2020-03-12",
          "2020-03-13",
          "2020-03-16",
          "2020-03-17",
          "2020-03-18",
          "2020-03-19",
          "2020-03-20",
          "2020-03-23",
          "2020-03-24",
          "2020-03-25",
          "2020-03-26",
          "2020-03-27",
          "2020-03-30",
          "2020-03-31",
          "2020-04-01",
          "2020-04-02",
          "2020-04-03",
          "2020-04-06",
          "2020-04-07",
          "2020-04-08",
          "2020-04-09",
          "2020-04-13",
          "2020-04-14",
          "2020-04-15",
          "2020-04-16",
          "2020-04-17",
          "2020-04-20",
          "2020-04-21",
          "2020-04-22",
          "2020-04-23",
          "2020-04-24",
          "2020-04-27",
          "2020-04-28",
          "2020-04-29",
          "2020-04-30",
          "2020-05-01",
          "2020-05-04",
          "2020-05-05",
          "2020-05-06",
          "2020-05-07",
          "2020-05-08",
          "2020-05-11",
          "2020-05-12",
          "2020-05-13",
          "2020-05-14",
          "2020-05-15",
          "2020-05-18"
         ],
         "y": [
          324.87,
          324.87,
          324.87,
          323.73,
          324.42,
          326.59,
          326.59,
          327.92,
          327.92,
          328.16,
          330.86,
          332.01,
          332.01,
          332.01,
          331.8,
          331.8,
          331.8,
          328.76,
          326.88,
          327.62,
          327.62,
          327.62,
          329.06,
          332.84,
          333.93,
          333.93,
          334.75,
          335.27,
          337.44,
          337.44,
          337.6,
          337.6,
          338.32,
          338.32,
          338.32,
          336.99,
          333.45,
          322.42,
          312.59,
          311.61,
          308.9,
          308.9,
          313.05,
          313.05,
          313.05,
          302.51,
          297.43,
          288.41,
          288.41,
          274.25,
          270.2,
          270.2,
          254.19,
          254.19,
          240.55,
          240.55,
          242,
          246.79,
          260.93,
          260.93,
          261.56,
          261.56,
          261.56,
          257.36,
          251.93,
          264.74,
          265.18,
          274,
          278.22,
          278.22,
          283.8,
          283.8,
          283.8,
          286.54,
          286.54,
          286.54,
          281.76,
          279.04,
          282.89,
          287.1,
          287.1,
          293.15,
          293.15,
          293.15,
          290.63,
          286.15,
          286.15,
          287.7,
          292.51,
          292.62,
          292.62,
          292.62,
          286.55,
          286.29,
          294.94
         ]
        },
        {
         "mode": "lines",
         "name": "SMA",
         "type": "scatter",
         "x": [
          "2020-01-02",
          "2020-01-03",
          "2020-01-06",
          "2020-01-07",
          "2020-01-08",
          "2020-01-09",
          "2020-01-10",
          "2020-01-13",
          "2020-01-14",
          "2020-01-15",
          "2020-01-16",
          "2020-01-17",
          "2020-01-21",
          "2020-01-22",
          "2020-01-23",
          "2020-01-24",
          "2020-01-27",
          "2020-01-28",
          "2020-01-29",
          "2020-01-30",
          "2020-01-31",
          "2020-02-03",
          "2020-02-04",
          "2020-02-05",
          "2020-02-06",
          "2020-02-07",
          "2020-02-10",
          "2020-02-11",
          "2020-02-12",
          "2020-02-13",
          "2020-02-14",
          "2020-02-18",
          "2020-02-19",
          "2020-02-20",
          "2020-02-21",
          "2020-02-24",
          "2020-02-25",
          "2020-02-26",
          "2020-02-27",
          "2020-02-28",
          "2020-03-02",
          "2020-03-03",
          "2020-03-04",
          "2020-03-05",
          "2020-03-06",
          "2020-03-09",
          "2020-03-10",
          "2020-03-11",
          "2020-03-12",
          "2020-03-13",
          "2020-03-16",
          "2020-03-17",
          "2020-03-18",
          "2020-03-19",
          "2020-03-20",
          "2020-03-23",
          "2020-03-24",
          "2020-03-25",
          "2020-03-26",
          "2020-03-27",
          "2020-03-30",
          "2020-03-31",
          "2020-04-01",
          "2020-04-02",
          "2020-04-03",
          "2020-04-06",
          "2020-04-07",
          "2020-04-08",
          "2020-04-09",
          "2020-04-13",
          "2020-04-14",
          "2020-04-15",
          "2020-04-16",
          "2020-04-17",
          "2020-04-20",
          "2020-04-21",
          "2020-04-22",
          "2020-04-23",
          "2020-04-24",
          "2020-04-27",
          "2020-04-28",
          "2020-04-29",
          "2020-04-30",
          "2020-05-01",
          "2020-05-04",
          "2020-05-05",
          "2020-05-06",
          "2020-05-07",
          "2020-05-08",
          "2020-05-11",
          "2020-05-12",
          "2020-05-13",
          "2020-05-14",
          "2020-05-15",
          "2020-05-18"
         ],
         "y": [
          324.87,
          323.65,
          323.6766666666667,
          322.9666666666667,
          323.63,
          324.5833333333333,
          325.55,
          326.71666666666664,
          326.99333333333334,
          327.83333333333337,
          328.81333333333333,
          330.3433333333333,
          331.3866666666667,
          331.55,
          331.48,
          330.6366666666667,
          328.0233333333333,
          326.3833333333333,
          325.67,
          327.04,
          325.33,
          324.49666666666667,
          324.9766666666667,
          328.67333333333335,
          331.9433333333333,
          333.00333333333333,
          333.64000000000004,
          334.08666666666664,
          335.82,
          336.6266666666667,
          337.40333333333336,
          337.1666666666667,
          337.55,
          337.34666666666664,
          336.25333333333333,
          330.9533333333333,
          322.82,
          315.53999999999996,
          307.3,
          301.84999999999997,
          300.94666666666666,
          301.82,
          307.42333333333335,
          305.29333333333335,
          304.33,
          292.08666666666664,
          287.3866666666667,
          279.66,
          272.6333333333334,
          266.56333333333333,
          255.5016666666667,
          255.15166666666664,
          243.6483333333333,
          243.4766666666667,
          235.21333333333334,
          230.87666666666667,
          231.36,
          237.15666666666667,
          249.90666666666667,
          253.90666666666667,
          258.83,
          257.64,
          254.98666666666668,
          251.77666666666667,
          248.64,
          254.87333333333333,
          259.28999999999996,
          267.97333333333336,
          272.4666666666667,
          275.95,
          279.21666666666664,
          279.06,
          280.17,
          281.0833333333333,
          282.42,
          280.49,
          277.99,
          277.0733333333333,
          280.31333333333333,
          283,
          285.2266666666667,
          288.6466666666667,
          289.8233333333333,
          288.86999999999995,
          285.68333333333334,
          284.19,
          284.6933333333333,
          286.06333333333333,
          288.18333333333334,
          290.9433333333333,
          290.56,
          286.8866666666667,
          284.35999999999996,
          284.27333333333337,
          288.75666666666666
         ]
        }
       ],
       "layout": {
        "height": 900,
        "template": {
         "data": {
          "bar": [
           {
            "error_x": {
             "color": "#2a3f5f"
            },
            "error_y": {
             "color": "#2a3f5f"
            },
            "marker": {
             "line": {
              "color": "#E5ECF6",
              "width": 0.5
             },
             "pattern": {
              "fillmode": "overlay",
              "size": 10,
              "solidity": 0.2
             }
            },
            "type": "bar"
           }
          ],
          "barpolar": [
           {
            "marker": {
             "line": {
              "color": "#E5ECF6",
              "width": 0.5
             },
             "pattern": {
              "fillmode": "overlay",
              "size": 10,
              "solidity": 0.2
             }
            },
            "type": "barpolar"
           }
          ],
          "carpet": [
           {
            "aaxis": {
             "endlinecolor": "#2a3f5f",
             "gridcolor": "white",
             "linecolor": "white",
             "minorgridcolor": "white",
             "startlinecolor": "#2a3f5f"
            },
            "baxis": {
             "endlinecolor": "#2a3f5f",
             "gridcolor": "white",
             "linecolor": "white",
             "minorgridcolor": "white",
             "startlinecolor": "#2a3f5f"
            },
            "type": "carpet"
           }
          ],
          "choropleth": [
           {
            "colorbar": {
             "outlinewidth": 0,
             "ticks": ""
            },
            "type": "choropleth"
           }
          ],
          "contour": [
           {
            "colorbar": {
             "outlinewidth": 0,
             "ticks": ""
            },
            "colorscale": [
             [
              0,
              "#0d0887"
             ],
             [
              0.1111111111111111,
              "#46039f"
             ],
             [
              0.2222222222222222,
              "#7201a8"
             ],
             [
              0.3333333333333333,
              "#9c179e"
             ],
             [
              0.4444444444444444,
              "#bd3786"
             ],
             [
              0.5555555555555556,
              "#d8576b"
             ],
             [
              0.6666666666666666,
              "#ed7953"
             ],
             [
              0.7777777777777778,
              "#fb9f3a"
             ],
             [
              0.8888888888888888,
              "#fdca26"
             ],
             [
              1,
              "#f0f921"
             ]
            ],
            "type": "contour"
           }
          ],
          "contourcarpet": [
           {
            "colorbar": {
             "outlinewidth": 0,
             "ticks": ""
            },
            "type": "contourcarpet"
           }
          ],
          "heatmap": [
           {
            "colorbar": {
             "outlinewidth": 0,
             "ticks": ""
            },
            "colorscale": [
             [
              0,
              "#0d0887"
             ],
             [
              0.1111111111111111,
              "#46039f"
             ],
             [
              0.2222222222222222,
              "#7201a8"
             ],
             [
              0.3333333333333333,
              "#9c179e"
             ],
             [
              0.4444444444444444,
              "#bd3786"
             ],
             [
              0.5555555555555556,
              "#d8576b"
             ],
             [
              0.6666666666666666,
              "#ed7953"
             ],
             [
              0.7777777777777778,
              "#fb9f3a"
             ],
             [
              0.8888888888888888,
              "#fdca26"
             ],
             [
              1,
              "#f0f921"
             ]
            ],
            "type": "heatmap"
           }
          ],
          "heatmapgl": [
           {
            "colorbar": {
             "outlinewidth": 0,
             "ticks": ""
            },
            "colorscale": [
             [
              0,
              "#0d0887"
             ],
             [
              0.1111111111111111,
              "#46039f"
             ],
             [
              0.2222222222222222,
              "#7201a8"
             ],
             [
              0.3333333333333333,
              "#9c179e"
             ],
             [
              0.4444444444444444,
              "#bd3786"
             ],
             [
              0.5555555555555556,
              "#d8576b"
             ],
             [
              0.6666666666666666,
              "#ed7953"
             ],
             [
              0.7777777777777778,
              "#fb9f3a"
             ],
             [
              0.8888888888888888,
              "#fdca26"
             ],
             [
              1,
              "#f0f921"
             ]
            ],
            "type": "heatmapgl"
           }
          ],
          "histogram": [
           {
            "marker": {
             "pattern": {
              "fillmode": "overlay",
              "size": 10,
              "solidity": 0.2
             }
            },
            "type": "histogram"
           }
          ],
          "histogram2d": [
           {
            "colorbar": {
             "outlinewidth": 0,
             "ticks": ""
            },
            "colorscale": [
             [
              0,
              "#0d0887"
             ],
             [
              0.1111111111111111,
              "#46039f"
             ],
             [
              0.2222222222222222,
              "#7201a8"
             ],
             [
              0.3333333333333333,
              "#9c179e"
             ],
             [
              0.4444444444444444,
              "#bd3786"
             ],
             [
              0.5555555555555556,
              "#d8576b"
             ],
             [
              0.6666666666666666,
              "#ed7953"
             ],
             [
              0.7777777777777778,
              "#fb9f3a"
             ],
             [
              0.8888888888888888,
              "#fdca26"
             ],
             [
              1,
              "#f0f921"
             ]
            ],
            "type": "histogram2d"
           }
          ],
          "histogram2dcontour": [
           {
            "colorbar": {
             "outlinewidth": 0,
             "ticks": ""
            },
            "colorscale": [
             [
              0,
              "#0d0887"
             ],
             [
              0.1111111111111111,
              "#46039f"
             ],
             [
              0.2222222222222222,
              "#7201a8"
             ],
             [
              0.3333333333333333,
              "#9c179e"
             ],
             [
              0.4444444444444444,
              "#bd3786"
             ],
             [
              0.5555555555555556,
              "#d8576b"
             ],
             [
              0.6666666666666666,
              "#ed7953"
             ],
             [
              0.7777777777777778,
              "#fb9f3a"
             ],
             [
              0.8888888888888888,
              "#fdca26"
             ],
             [
              1,
              "#f0f921"
             ]
            ],
            "type": "histogram2dcontour"
           }
          ],
          "mesh3d": [
           {
            "colorbar": {
             "outlinewidth": 0,
             "ticks": ""
            },
            "type": "mesh3d"
           }
          ],
          "parcoords": [
           {
            "line": {
             "colorbar": {
              "outlinewidth": 0,
              "ticks": ""
             }
            },
            "type": "parcoords"
           }
          ],
          "pie": [
           {
            "automargin": true,
            "type": "pie"
           }
          ],
          "scatter": [
           {
            "marker": {
             "colorbar": {
              "outlinewidth": 0,
              "ticks": ""
             }
            },
            "type": "scatter"
           }
          ],
          "scatter3d": [
           {
            "line": {
             "colorbar": {
              "outlinewidth": 0,
              "ticks": ""
             }
            },
            "marker": {
             "colorbar": {
              "outlinewidth": 0,
              "ticks": ""
             }
            },
            "type": "scatter3d"
           }
          ],
          "scattercarpet": [
           {
            "marker": {
             "colorbar": {
              "outlinewidth": 0,
              "ticks": ""
             }
            },
            "type": "scattercarpet"
           }
          ],
          "scattergeo": [
           {
            "marker": {
             "colorbar": {
              "outlinewidth": 0,
              "ticks": ""
             }
            },
            "type": "scattergeo"
           }
          ],
          "scattergl": [
           {
            "marker": {
             "colorbar": {
              "outlinewidth": 0,
              "ticks": ""
             }
            },
            "type": "scattergl"
           }
          ],
          "scattermapbox": [
           {
            "marker": {
             "colorbar": {
              "outlinewidth": 0,
              "ticks": ""
             }
            },
            "type": "scattermapbox"
           }
          ],
          "scatterpolar": [
           {
            "marker": {
             "colorbar": {
              "outlinewidth": 0,
              "ticks": ""
             }
            },
            "type": "scatterpolar"
           }
          ],
          "scatterpolargl": [
           {
            "marker": {
             "colorbar": {
              "outlinewidth": 0,
              "ticks": ""
             }
            },
            "type": "scatterpolargl"
           }
          ],
          "scatterternary": [
           {
            "marker": {
             "colorbar": {
              "outlinewidth": 0,
              "ticks": ""
             }
            },
            "type": "scatterternary"
           }
          ],
          "surface": [
           {
            "colorbar": {
             "outlinewidth": 0,
             "ticks": ""
            },
            "colorscale": [
             [
              0,
              "#0d0887"
             ],
             [
              0.1111111111111111,
              "#46039f"
             ],
             [
              0.2222222222222222,
              "#7201a8"
             ],
             [
              0.3333333333333333,
              "#9c179e"
             ],
             [
              0.4444444444444444,
              "#bd3786"
             ],
             [
              0.5555555555555556,
              "#d8576b"
             ],
             [
              0.6666666666666666,
              "#ed7953"
             ],
             [
              0.7777777777777778,
              "#fb9f3a"
             ],
             [
              0.8888888888888888,
              "#fdca26"
             ],
             [
              1,
              "#f0f921"
             ]
            ],
            "type": "surface"
           }
          ],
          "table": [
           {
            "cells": {
             "fill": {
              "color": "#EBF0F8"
             },
             "line": {
              "color": "white"
             }
            },
            "header": {
             "fill": {
              "color": "#C8D4E3"
             },
             "line": {
              "color": "white"
             }
            },
            "type": "table"
           }
          ]
         },
         "layout": {
          "annotationdefaults": {
           "arrowcolor": "#2a3f5f",
           "arrowhead": 0,
           "arrowwidth": 1
          },
          "autotypenumbers": "strict",
          "coloraxis": {
           "colorbar": {
            "outlinewidth": 0,
            "ticks": ""
           }
          },
          "colorscale": {
           "diverging": [
            [
             0,
             "#8e0152"
            ],
            [
             0.1,
             "#c51b7d"
            ],
            [
             0.2,
             "#de77ae"
            ],
            [
             0.3,
             "#f1b6da"
            ],
            [
             0.4,
             "#fde0ef"
            ],
            [
             0.5,
             "#f7f7f7"
            ],
            [
             0.6,
             "#e6f5d0"
            ],
            [
             0.7,
             "#b8e186"
            ],
            [
             0.8,
             "#7fbc41"
            ],
            [
             0.9,
             "#4d9221"
            ],
            [
             1,
             "#276419"
            ]
           ],
           "sequential": [
            [
             0,
             "#0d0887"
            ],
            [
             0.1111111111111111,
             "#46039f"
            ],
            [
             0.2222222222222222,
             "#7201a8"
            ],
            [
             0.3333333333333333,
             "#9c179e"
            ],
            [
             0.4444444444444444,
             "#bd3786"
            ],
            [
             0.5555555555555556,
             "#d8576b"
            ],
            [
             0.6666666666666666,
             "#ed7953"
            ],
            [
             0.7777777777777778,
             "#fb9f3a"
            ],
            [
             0.8888888888888888,
             "#fdca26"
            ],
            [
             1,
             "#f0f921"
            ]
           ],
           "sequentialminus": [
            [
             0,
             "#0d0887"
            ],
            [
             0.1111111111111111,
             "#46039f"
            ],
            [
             0.2222222222222222,
             "#7201a8"
            ],
            [
             0.3333333333333333,
             "#9c179e"
            ],
            [
             0.4444444444444444,
             "#bd3786"
            ],
            [
             0.5555555555555556,
             "#d8576b"
            ],
            [
             0.6666666666666666,
             "#ed7953"
            ],
            [
             0.7777777777777778,
             "#fb9f3a"
            ],
            [
             0.8888888888888888,
             "#fdca26"
            ],
            [
             1,
             "#f0f921"
            ]
           ]
          },
          "colorway": [
           "#636efa",
           "#EF553B",
           "#00cc96",
           "#ab63fa",
           "#FFA15A",
           "#19d3f3",
           "#FF6692",
           "#B6E880",
           "#FF97FF",
           "#FECB52"
          ],
          "font": {
           "color": "#2a3f5f"
          },
          "geo": {
           "bgcolor": "white",
           "lakecolor": "white",
           "landcolor": "#E5ECF6",
           "showlakes": true,
           "showland": true,
           "subunitcolor": "white"
          },
          "hoverlabel": {
           "align": "left"
          },
          "hovermode": "closest",
          "mapbox": {
           "style": "light"
          },
          "paper_bgcolor": "white",
          "plot_bgcolor": "#E5ECF6",
          "polar": {
           "angularaxis": {
            "gridcolor": "white",
            "linecolor": "white",
            "ticks": ""
           },
           "bgcolor": "#E5ECF6",
           "radialaxis": {
            "gridcolor": "white",
            "linecolor": "white",
            "ticks": ""
           }
          },
          "scene": {
           "xaxis": {
            "backgroundcolor": "#E5ECF6",
            "gridcolor": "white",
            "gridwidth": 2,
            "linecolor": "white",
            "showbackground": true,
            "ticks": "",
            "zerolinecolor": "white"
           },
           "yaxis": {
            "backgroundcolor": "#E5ECF6",
            "gridcolor": "white",
            "gridwidth": 2,
            "linecolor": "white",
            "showbackground": true,
            "ticks": "",
            "zerolinecolor": "white"
           },
           "zaxis": {
            "backgroundcolor": "#E5ECF6",
            "gridcolor": "white",
            "gridwidth": 2,
            "linecolor": "white",
            "showbackground": true,
            "ticks": "",
            "zerolinecolor": "white"
           }
          },
          "shapedefaults": {
           "line": {
            "color": "#2a3f5f"
           }
          },
          "ternary": {
           "aaxis": {
            "gridcolor": "white",
            "linecolor": "white",
            "ticks": ""
           },
           "baxis": {
            "gridcolor": "white",
            "linecolor": "white",
            "ticks": ""
           },
           "bgcolor": "#E5ECF6",
           "caxis": {
            "gridcolor": "white",
            "linecolor": "white",
            "ticks": ""
           }
          },
          "title": {
           "x": 0.05
          },
          "xaxis": {
           "automargin": true,
           "gridcolor": "white",
           "linecolor": "white",
           "ticks": "",
           "title": {
            "standoff": 15
           },
           "zerolinecolor": "white",
           "zerolinewidth": 2
          },
          "yaxis": {
           "automargin": true,
           "gridcolor": "white",
           "linecolor": "white",
           "ticks": "",
           "title": {
            "standoff": 15
           },
           "zerolinecolor": "white",
           "zerolinewidth": 2
          }
         }
        },
        "title": {
         "text": "0"
        },
        "width": 900,
        "xaxis": {
         "anchor": "y",
         "domain": [
          0,
          1
         ],
         "title": {
          "text": "Date"
         }
        },
        "yaxis": {
         "anchor": "x",
         "domain": [
          0,
          1
         ],
         "title": {
          "text": "Prices"
         }
        }
       }
      }
     },
     "metadata": {},
     "output_type": "display_data"
    }
   ],
   "source": [
    "fig = make_subplots()\n",
    "# include candlestick with rangeselector\n",
    "fig.add_trace(go.Candlestick(x=df['timestamp'], open=df['open'], high=df['high'], low=df['low'], close=df['close']))\n",
    "fig.add_trace(go.Scatter(x=df['timestamp'],y=df['close'], name = 'price', mode = 'lines'))\n",
    "fig.add_trace(go.Scatter(x=df['timestamp'],y=df['3_SMA_l'], name = 'SMA - low', mode = 'lines'))\n",
    "fig.add_trace(go.Scatter(x=df['timestamp'],y=df['3_SMA_h'], name = 'SMA - high', mode = 'lines'))\n",
    "fig.add_trace(go.Scatter(x=df['timestamp'],y=df['3_SMA'], name = 'SMA', mode = 'lines'))\n",
    "fig.update_layout(title= stock,\n",
    "                      width=900, height=900,\n",
    "                      xaxis_title='Date',\n",
    "                      yaxis_title='Prices')\n",
    "fig.show()"
   ]
  },
  {
   "cell_type": "code",
   "execution_count": null,
   "metadata": {},
   "outputs": [
    {
     "data": {
      "application/vnd.plotly.v1+json": {
       "config": {
        "plotlyServerURL": "https://plot.ly"
       },
       "data": [
        {
         "close": [
          324.87,
          322.43,
          323.73,
          322.74,
          324.42,
          326.59,
          325.64,
          327.92,
          327.42,
          328.16,
          330.86,
          332.01,
          331.29,
          331.35,
          331.8,
          328.76,
          323.51,
          326.88,
          326.62,
          327.62,
          321.75,
          324.12,
          329.06,
          332.84,
          333.93,
          332.24,
          334.75,
          335.27,
          337.44,
          337.17,
          337.6,
          336.73,
          338.32,
          336.99,
          333.45,
          322.42,
          312.59,
          311.61,
          297.7,
          296.24,
          308.9,
          300.32,
          313.05,
          302.51,
          297.43,
          276.32,
          288.41,
          274.25,
          255.24,
          270.2,
          241.065,
          254.19,
          235.69,
          240.55,
          229.4,
          222.68,
          242,
          246.79,
          260.93,
          254,
          261.56,
          257.36,
          246.04,
          251.93,
          247.95,
          264.74,
          265.18,
          274,
          278.22,
          275.63,
          283.8,
          277.75,
          278.96,
          286.54,
          281.76,
          273.17,
          279.04,
          279.01,
          282.89,
          287.1,
          285.69,
          293.15,
          290.63,
          282.83,
          283.59,
          286.15,
          284.34,
          287.7,
          292.51,
          292.62,
          286.55,
          281.49,
          285.04,
          286.29,
          294.94
         ],
         "high": [
          324.89,
          323.64,
          323.73,
          323.54,
          325.78,
          326.73,
          327.46,
          327.96,
          328.62,
          329.02,
          330.92,
          332.18,
          332.18,
          332.95,
          332.1682,
          332.53,
          325.12,
          327.85,
          328.63,
          327.91,
          327.17,
          326.16,
          330.01,
          333.09,
          334.49,
          333.9941,
          334.75,
          337.02,
          337.65,
          338.12,
          337.73,
          337.6677,
          339.08,
          338.64,
          335.81,
          333.5623,
          324.61,
          318.11,
          311.5637,
          297.892,
          309.16,
          313.84,
          313.1,
          308.47,
          298.78,
          284.19,
          288.52,
          281.94,
          266.66,
          271.4754,
          256.9,
          256.17,
          248.37,
          247.38,
          244.47,
          229.6833,
          244.1,
          256.35,
          262.8,
          260.81,
          262.43,
          263.33,
          257.6591,
          252.68,
          253.32,
          267,
          275.03,
          276,
          281.2,
          277.51,
          284.9,
          283.9407,
          280.03,
          287.3,
          286.7912,
          278.04,
          281,
          283.94,
          283.7,
          288.27,
          291.4,
          294.88,
          293.3239,
          290.6572,
          283.9,
          289.25,
          288.46,
          289.78,
          292.95,
          294,
          294.24,
          287.19,
          285.11,
          286.33,
          296.75
         ],
         "low": [
          322.53,
          321.1,
          320.36,
          322.24,
          322.67,
          325.52,
          325.2,
          325.92,
          326.844,
          327.26,
          329.45,
          330.7897,
          330.82,
          331.17,
          329.41,
          327.36,
          322.66,
          323.6038,
          326.4,
          323.54,
          320.73,
          323.22,
          327.72,
          330.67,
          332.8,
          331.6,
          331.19,
          334.684,
          336.43,
          335.56,
          336.2,
          335.21,
          337.48,
          333.6817,
          332.58,
          321.24,
          311.69,
          310.7,
          297.51,
          285.54,
          294.46,
          297.57,
          303.33,
          300.01,
          290.23,
          273.45,
          273.5,
          270.88,
          247.68,
          248.5237,
          237.36,
          237.07,
          228.02,
          232.22,
          228.5,
          218.26,
          233.8,
          239.75,
          249.05,
          251.05,
          253.53,
          256.22,
          243.9,
          244.59,
          245.22,
          248.1698,
          264.89,
          265.2542,
          275.47,
          271.41,
          275.5106,
          275.46,
          275.76,
          282.4,
          281.35,
          272.02,
          276.91,
          278.75,
          278.5,
          284.62,
          285.4,
          290.41,
          288.59,
          281.52,
          279.13,
          283.7134,
          283.78,
          287.13,
          287.68,
          289.88,
          286.52,
          278.965,
          272.99,
          281.34,
          292.7
         ],
         "open": [
          323.58,
          321.19,
          320.44,
          323.02,
          322.99,
          326.2,
          327.36,
          326.4,
          327.48,
          327.33,
          329.67,
          331.72,
          330.92,
          332.26,
          330.6,
          332.45,
          323.05,
          325.06,
          328.43,
          324.37,
          327.03,
          323.35,
          328.07,
          332.27,
          333.98,
          332.81,
          331.19,
          336.16,
          336.86,
          335.9,
          337.48,
          336.65,
          337.81,
          337.77,
          335.41,
          323.17,
          323.97,
          314.19,
          305.42,
          288.67,
          298,
          309.55,
          306.11,
          304.95,
          292.71,
          275.1,
          284.61,
          280.73,
          256.05,
          263,
          240.78,
          245.04,
          236.89,
          239.26,
          242.88,
          228,
          234.99,
          245.01,
          249.26,
          253.22,
          255.49,
          260.7,
          247.95,
          245.2,
          250.81,
          257.97,
          274.47,
          268.05,
          277.79,
          277.17,
          281.08,
          277.52,
          279.05,
          285.36,
          282.62,
          276.48,
          278.38,
          280.46,
          280.69,
          285.13,
          291.03,
          291.59,
          291.69,
          285.26,
          280.46,
          286.66,
          288.01,
          287.79,
          291.05,
          290.36,
          293.8,
          285.95,
          278.8,
          282.32,
          292.92
         ],
         "type": "candlestick",
         "x": [
          "2020-01-02",
          "2020-01-03",
          "2020-01-06",
          "2020-01-07",
          "2020-01-08",
          "2020-01-09",
          "2020-01-10",
          "2020-01-13",
          "2020-01-14",
          "2020-01-15",
          "2020-01-16",
          "2020-01-17",
          "2020-01-21",
          "2020-01-22",
          "2020-01-23",
          "2020-01-24",
          "2020-01-27",
          "2020-01-28",
          "2020-01-29",
          "2020-01-30",
          "2020-01-31",
          "2020-02-03",
          "2020-02-04",
          "2020-02-05",
          "2020-02-06",
          "2020-02-07",
          "2020-02-10",
          "2020-02-11",
          "2020-02-12",
          "2020-02-13",
          "2020-02-14",
          "2020-02-18",
          "2020-02-19",
          "2020-02-20",
          "2020-02-21",
          "2020-02-24",
          "2020-02-25",
          "2020-02-26",
          "2020-02-27",
          "2020-02-28",
          "2020-03-02",
          "2020-03-03",
          "2020-03-04",
          "2020-03-05",
          "2020-03-06",
          "2020-03-09",
          "2020-03-10",
          "2020-03-11",
          "2020-03-12",
          "2020-03-13",
          "2020-03-16",
          "2020-03-17",
          "2020-03-18",
          "2020-03-19",
          "2020-03-20",
          "2020-03-23",
          "2020-03-24",
          "2020-03-25",
          "2020-03-26",
          "2020-03-27",
          "2020-03-30",
          "2020-03-31",
          "2020-04-01",
          "2020-04-02",
          "2020-04-03",
          "2020-04-06",
          "2020-04-07",
          "2020-04-08",
          "2020-04-09",
          "2020-04-13",
          "2020-04-14",
          "2020-04-15",
          "2020-04-16",
          "2020-04-17",
          "2020-04-20",
          "2020-04-21",
          "2020-04-22",
          "2020-04-23",
          "2020-04-24",
          "2020-04-27",
          "2020-04-28",
          "2020-04-29",
          "2020-04-30",
          "2020-05-01",
          "2020-05-04",
          "2020-05-05",
          "2020-05-06",
          "2020-05-07",
          "2020-05-08",
          "2020-05-11",
          "2020-05-12",
          "2020-05-13",
          "2020-05-14",
          "2020-05-15",
          "2020-05-18"
         ],
         "xaxis": "x",
         "yaxis": "y"
        },
        {
         "type": "scatter",
         "x": [
          "2020-01-02",
          "2020-01-03",
          "2020-01-06",
          "2020-01-07",
          "2020-01-08",
          "2020-01-09",
          "2020-01-10",
          "2020-01-13",
          "2020-01-14",
          "2020-01-15",
          "2020-01-16",
          "2020-01-17",
          "2020-01-21",
          "2020-01-22",
          "2020-01-23",
          "2020-01-24",
          "2020-01-27",
          "2020-01-28",
          "2020-01-29",
          "2020-01-30",
          "2020-01-31",
          "2020-02-03",
          "2020-02-04",
          "2020-02-05",
          "2020-02-06",
          "2020-02-07",
          "2020-02-10",
          "2020-02-11",
          "2020-02-12",
          "2020-02-13",
          "2020-02-14",
          "2020-02-18",
          "2020-02-19",
          "2020-02-20",
          "2020-02-21",
          "2020-02-24",
          "2020-02-25",
          "2020-02-26",
          "2020-02-27",
          "2020-02-28",
          "2020-03-02",
          "2020-03-03",
          "2020-03-04",
          "2020-03-05",
          "2020-03-06",
          "2020-03-09",
          "2020-03-10",
          "2020-03-11",
          "2020-03-12",
          "2020-03-13",
          "2020-03-16",
          "2020-03-17",
          "2020-03-18",
          "2020-03-19",
          "2020-03-20",
          "2020-03-23",
          "2020-03-24",
          "2020-03-25",
          "2020-03-26",
          "2020-03-27",
          "2020-03-30",
          "2020-03-31",
          "2020-04-01",
          "2020-04-02",
          "2020-04-03",
          "2020-04-06",
          "2020-04-07",
          "2020-04-08",
          "2020-04-09",
          "2020-04-13",
          "2020-04-14",
          "2020-04-15",
          "2020-04-16",
          "2020-04-17",
          "2020-04-20",
          "2020-04-21",
          "2020-04-22",
          "2020-04-23",
          "2020-04-24",
          "2020-04-27",
          "2020-04-28",
          "2020-04-29",
          "2020-04-30",
          "2020-05-01",
          "2020-05-04",
          "2020-05-05",
          "2020-05-06",
          "2020-05-07",
          "2020-05-08",
          "2020-05-11",
          "2020-05-12",
          "2020-05-13",
          "2020-05-14",
          "2020-05-15",
          "2020-05-18"
         ],
         "xaxis": "x2",
         "y": [
          100000,
          99512,
          100032,
          99636,
          100308,
          100308,
          100308,
          100308,
          100308,
          100456,
          100996,
          100996,
          101082,
          101106,
          101286,
          101286,
          100236,
          101584,
          101584,
          101784,
          100610,
          101558,
          103534,
          103534,
          103534,
          103534,
          104538,
          104746,
          104746,
          104746,
          104832,
          104658,
          105294,
          105346,
          104638,
          100226,
          96293.99999999999,
          95902,
          90338,
          89754,
          94817.99999999999,
          94817.99999999999,
          94817.99999999999,
          95255.99999999999,
          94239.99999999999,
          85795.99999999999,
          90632,
          84967.99999999999,
          77363.99999999999,
          83347.99999999999,
          71693.99999999999,
          76943.99999999999,
          69543.99999999999,
          71487.99999999999,
          71487.99999999999,
          71487.99999999999,
          75351.99999999999,
          75351.99999999999,
          75351.99999999999,
          75351.99999999999,
          76863.99999999999,
          76863.99999999999,
          76863.99999999999,
          79219.99999999999,
          79219.99999999999,
          79219.99999999999,
          79219.99999999999,
          79219.99999999999,
          79219.99999999999,
          79545.99999999999,
          82813.99999999999,
          82813.99999999999,
          83055.99999999997,
          84572,
          84572,
          84572,
          85746,
          85746,
          86522,
          87364,
          87364,
          87364,
          87364,
          87364,
          87667.99999999999,
          88691.99999999999,
          88691.99999999999,
          88691.99999999999,
          88691.99999999999,
          88691.99999999999,
          88691.99999999999,
          87679.99999999999,
          89100,
          89600,
          89600
         ],
         "yaxis": "y2"
        }
       ],
       "layout": {
        "height": 900,
        "template": {
         "data": {
          "bar": [
           {
            "error_x": {
             "color": "#2a3f5f"
            },
            "error_y": {
             "color": "#2a3f5f"
            },
            "marker": {
             "line": {
              "color": "#E5ECF6",
              "width": 0.5
             },
             "pattern": {
              "fillmode": "overlay",
              "size": 10,
              "solidity": 0.2
             }
            },
            "type": "bar"
           }
          ],
          "barpolar": [
           {
            "marker": {
             "line": {
              "color": "#E5ECF6",
              "width": 0.5
             },
             "pattern": {
              "fillmode": "overlay",
              "size": 10,
              "solidity": 0.2
             }
            },
            "type": "barpolar"
           }
          ],
          "carpet": [
           {
            "aaxis": {
             "endlinecolor": "#2a3f5f",
             "gridcolor": "white",
             "linecolor": "white",
             "minorgridcolor": "white",
             "startlinecolor": "#2a3f5f"
            },
            "baxis": {
             "endlinecolor": "#2a3f5f",
             "gridcolor": "white",
             "linecolor": "white",
             "minorgridcolor": "white",
             "startlinecolor": "#2a3f5f"
            },
            "type": "carpet"
           }
          ],
          "choropleth": [
           {
            "colorbar": {
             "outlinewidth": 0,
             "ticks": ""
            },
            "type": "choropleth"
           }
          ],
          "contour": [
           {
            "colorbar": {
             "outlinewidth": 0,
             "ticks": ""
            },
            "colorscale": [
             [
              0,
              "#0d0887"
             ],
             [
              0.1111111111111111,
              "#46039f"
             ],
             [
              0.2222222222222222,
              "#7201a8"
             ],
             [
              0.3333333333333333,
              "#9c179e"
             ],
             [
              0.4444444444444444,
              "#bd3786"
             ],
             [
              0.5555555555555556,
              "#d8576b"
             ],
             [
              0.6666666666666666,
              "#ed7953"
             ],
             [
              0.7777777777777778,
              "#fb9f3a"
             ],
             [
              0.8888888888888888,
              "#fdca26"
             ],
             [
              1,
              "#f0f921"
             ]
            ],
            "type": "contour"
           }
          ],
          "contourcarpet": [
           {
            "colorbar": {
             "outlinewidth": 0,
             "ticks": ""
            },
            "type": "contourcarpet"
           }
          ],
          "heatmap": [
           {
            "colorbar": {
             "outlinewidth": 0,
             "ticks": ""
            },
            "colorscale": [
             [
              0,
              "#0d0887"
             ],
             [
              0.1111111111111111,
              "#46039f"
             ],
             [
              0.2222222222222222,
              "#7201a8"
             ],
             [
              0.3333333333333333,
              "#9c179e"
             ],
             [
              0.4444444444444444,
              "#bd3786"
             ],
             [
              0.5555555555555556,
              "#d8576b"
             ],
             [
              0.6666666666666666,
              "#ed7953"
             ],
             [
              0.7777777777777778,
              "#fb9f3a"
             ],
             [
              0.8888888888888888,
              "#fdca26"
             ],
             [
              1,
              "#f0f921"
             ]
            ],
            "type": "heatmap"
           }
          ],
          "heatmapgl": [
           {
            "colorbar": {
             "outlinewidth": 0,
             "ticks": ""
            },
            "colorscale": [
             [
              0,
              "#0d0887"
             ],
             [
              0.1111111111111111,
              "#46039f"
             ],
             [
              0.2222222222222222,
              "#7201a8"
             ],
             [
              0.3333333333333333,
              "#9c179e"
             ],
             [
              0.4444444444444444,
              "#bd3786"
             ],
             [
              0.5555555555555556,
              "#d8576b"
             ],
             [
              0.6666666666666666,
              "#ed7953"
             ],
             [
              0.7777777777777778,
              "#fb9f3a"
             ],
             [
              0.8888888888888888,
              "#fdca26"
             ],
             [
              1,
              "#f0f921"
             ]
            ],
            "type": "heatmapgl"
           }
          ],
          "histogram": [
           {
            "marker": {
             "pattern": {
              "fillmode": "overlay",
              "size": 10,
              "solidity": 0.2
             }
            },
            "type": "histogram"
           }
          ],
          "histogram2d": [
           {
            "colorbar": {
             "outlinewidth": 0,
             "ticks": ""
            },
            "colorscale": [
             [
              0,
              "#0d0887"
             ],
             [
              0.1111111111111111,
              "#46039f"
             ],
             [
              0.2222222222222222,
              "#7201a8"
             ],
             [
              0.3333333333333333,
              "#9c179e"
             ],
             [
              0.4444444444444444,
              "#bd3786"
             ],
             [
              0.5555555555555556,
              "#d8576b"
             ],
             [
              0.6666666666666666,
              "#ed7953"
             ],
             [
              0.7777777777777778,
              "#fb9f3a"
             ],
             [
              0.8888888888888888,
              "#fdca26"
             ],
             [
              1,
              "#f0f921"
             ]
            ],
            "type": "histogram2d"
           }
          ],
          "histogram2dcontour": [
           {
            "colorbar": {
             "outlinewidth": 0,
             "ticks": ""
            },
            "colorscale": [
             [
              0,
              "#0d0887"
             ],
             [
              0.1111111111111111,
              "#46039f"
             ],
             [
              0.2222222222222222,
              "#7201a8"
             ],
             [
              0.3333333333333333,
              "#9c179e"
             ],
             [
              0.4444444444444444,
              "#bd3786"
             ],
             [
              0.5555555555555556,
              "#d8576b"
             ],
             [
              0.6666666666666666,
              "#ed7953"
             ],
             [
              0.7777777777777778,
              "#fb9f3a"
             ],
             [
              0.8888888888888888,
              "#fdca26"
             ],
             [
              1,
              "#f0f921"
             ]
            ],
            "type": "histogram2dcontour"
           }
          ],
          "mesh3d": [
           {
            "colorbar": {
             "outlinewidth": 0,
             "ticks": ""
            },
            "type": "mesh3d"
           }
          ],
          "parcoords": [
           {
            "line": {
             "colorbar": {
              "outlinewidth": 0,
              "ticks": ""
             }
            },
            "type": "parcoords"
           }
          ],
          "pie": [
           {
            "automargin": true,
            "type": "pie"
           }
          ],
          "scatter": [
           {
            "marker": {
             "colorbar": {
              "outlinewidth": 0,
              "ticks": ""
             }
            },
            "type": "scatter"
           }
          ],
          "scatter3d": [
           {
            "line": {
             "colorbar": {
              "outlinewidth": 0,
              "ticks": ""
             }
            },
            "marker": {
             "colorbar": {
              "outlinewidth": 0,
              "ticks": ""
             }
            },
            "type": "scatter3d"
           }
          ],
          "scattercarpet": [
           {
            "marker": {
             "colorbar": {
              "outlinewidth": 0,
              "ticks": ""
             }
            },
            "type": "scattercarpet"
           }
          ],
          "scattergeo": [
           {
            "marker": {
             "colorbar": {
              "outlinewidth": 0,
              "ticks": ""
             }
            },
            "type": "scattergeo"
           }
          ],
          "scattergl": [
           {
            "marker": {
             "colorbar": {
              "outlinewidth": 0,
              "ticks": ""
             }
            },
            "type": "scattergl"
           }
          ],
          "scattermapbox": [
           {
            "marker": {
             "colorbar": {
              "outlinewidth": 0,
              "ticks": ""
             }
            },
            "type": "scattermapbox"
           }
          ],
          "scatterpolar": [
           {
            "marker": {
             "colorbar": {
              "outlinewidth": 0,
              "ticks": ""
             }
            },
            "type": "scatterpolar"
           }
          ],
          "scatterpolargl": [
           {
            "marker": {
             "colorbar": {
              "outlinewidth": 0,
              "ticks": ""
             }
            },
            "type": "scatterpolargl"
           }
          ],
          "scatterternary": [
           {
            "marker": {
             "colorbar": {
              "outlinewidth": 0,
              "ticks": ""
             }
            },
            "type": "scatterternary"
           }
          ],
          "surface": [
           {
            "colorbar": {
             "outlinewidth": 0,
             "ticks": ""
            },
            "colorscale": [
             [
              0,
              "#0d0887"
             ],
             [
              0.1111111111111111,
              "#46039f"
             ],
             [
              0.2222222222222222,
              "#7201a8"
             ],
             [
              0.3333333333333333,
              "#9c179e"
             ],
             [
              0.4444444444444444,
              "#bd3786"
             ],
             [
              0.5555555555555556,
              "#d8576b"
             ],
             [
              0.6666666666666666,
              "#ed7953"
             ],
             [
              0.7777777777777778,
              "#fb9f3a"
             ],
             [
              0.8888888888888888,
              "#fdca26"
             ],
             [
              1,
              "#f0f921"
             ]
            ],
            "type": "surface"
           }
          ],
          "table": [
           {
            "cells": {
             "fill": {
              "color": "#EBF0F8"
             },
             "line": {
              "color": "white"
             }
            },
            "header": {
             "fill": {
              "color": "#C8D4E3"
             },
             "line": {
              "color": "white"
             }
            },
            "type": "table"
           }
          ]
         },
         "layout": {
          "annotationdefaults": {
           "arrowcolor": "#2a3f5f",
           "arrowhead": 0,
           "arrowwidth": 1
          },
          "autotypenumbers": "strict",
          "coloraxis": {
           "colorbar": {
            "outlinewidth": 0,
            "ticks": ""
           }
          },
          "colorscale": {
           "diverging": [
            [
             0,
             "#8e0152"
            ],
            [
             0.1,
             "#c51b7d"
            ],
            [
             0.2,
             "#de77ae"
            ],
            [
             0.3,
             "#f1b6da"
            ],
            [
             0.4,
             "#fde0ef"
            ],
            [
             0.5,
             "#f7f7f7"
            ],
            [
             0.6,
             "#e6f5d0"
            ],
            [
             0.7,
             "#b8e186"
            ],
            [
             0.8,
             "#7fbc41"
            ],
            [
             0.9,
             "#4d9221"
            ],
            [
             1,
             "#276419"
            ]
           ],
           "sequential": [
            [
             0,
             "#0d0887"
            ],
            [
             0.1111111111111111,
             "#46039f"
            ],
            [
             0.2222222222222222,
             "#7201a8"
            ],
            [
             0.3333333333333333,
             "#9c179e"
            ],
            [
             0.4444444444444444,
             "#bd3786"
            ],
            [
             0.5555555555555556,
             "#d8576b"
            ],
            [
             0.6666666666666666,
             "#ed7953"
            ],
            [
             0.7777777777777778,
             "#fb9f3a"
            ],
            [
             0.8888888888888888,
             "#fdca26"
            ],
            [
             1,
             "#f0f921"
            ]
           ],
           "sequentialminus": [
            [
             0,
             "#0d0887"
            ],
            [
             0.1111111111111111,
             "#46039f"
            ],
            [
             0.2222222222222222,
             "#7201a8"
            ],
            [
             0.3333333333333333,
             "#9c179e"
            ],
            [
             0.4444444444444444,
             "#bd3786"
            ],
            [
             0.5555555555555556,
             "#d8576b"
            ],
            [
             0.6666666666666666,
             "#ed7953"
            ],
            [
             0.7777777777777778,
             "#fb9f3a"
            ],
            [
             0.8888888888888888,
             "#fdca26"
            ],
            [
             1,
             "#f0f921"
            ]
           ]
          },
          "colorway": [
           "#636efa",
           "#EF553B",
           "#00cc96",
           "#ab63fa",
           "#FFA15A",
           "#19d3f3",
           "#FF6692",
           "#B6E880",
           "#FF97FF",
           "#FECB52"
          ],
          "font": {
           "color": "#2a3f5f"
          },
          "geo": {
           "bgcolor": "white",
           "lakecolor": "white",
           "landcolor": "#E5ECF6",
           "showlakes": true,
           "showland": true,
           "subunitcolor": "white"
          },
          "hoverlabel": {
           "align": "left"
          },
          "hovermode": "closest",
          "mapbox": {
           "style": "light"
          },
          "paper_bgcolor": "white",
          "plot_bgcolor": "#E5ECF6",
          "polar": {
           "angularaxis": {
            "gridcolor": "white",
            "linecolor": "white",
            "ticks": ""
           },
           "bgcolor": "#E5ECF6",
           "radialaxis": {
            "gridcolor": "white",
            "linecolor": "white",
            "ticks": ""
           }
          },
          "scene": {
           "xaxis": {
            "backgroundcolor": "#E5ECF6",
            "gridcolor": "white",
            "gridwidth": 2,
            "linecolor": "white",
            "showbackground": true,
            "ticks": "",
            "zerolinecolor": "white"
           },
           "yaxis": {
            "backgroundcolor": "#E5ECF6",
            "gridcolor": "white",
            "gridwidth": 2,
            "linecolor": "white",
            "showbackground": true,
            "ticks": "",
            "zerolinecolor": "white"
           },
           "zaxis": {
            "backgroundcolor": "#E5ECF6",
            "gridcolor": "white",
            "gridwidth": 2,
            "linecolor": "white",
            "showbackground": true,
            "ticks": "",
            "zerolinecolor": "white"
           }
          },
          "shapedefaults": {
           "line": {
            "color": "#2a3f5f"
           }
          },
          "ternary": {
           "aaxis": {
            "gridcolor": "white",
            "linecolor": "white",
            "ticks": ""
           },
           "baxis": {
            "gridcolor": "white",
            "linecolor": "white",
            "ticks": ""
           },
           "bgcolor": "#E5ECF6",
           "caxis": {
            "gridcolor": "white",
            "linecolor": "white",
            "ticks": ""
           }
          },
          "title": {
           "x": 0.05
          },
          "xaxis": {
           "automargin": true,
           "gridcolor": "white",
           "linecolor": "white",
           "ticks": "",
           "title": {
            "standoff": 15
           },
           "zerolinecolor": "white",
           "zerolinewidth": 2
          },
          "yaxis": {
           "automargin": true,
           "gridcolor": "white",
           "linecolor": "white",
           "ticks": "",
           "title": {
            "standoff": 15
           },
           "zerolinecolor": "white",
           "zerolinewidth": 2
          }
         }
        },
        "title": {
         "text": "0"
        },
        "width": 900,
        "xaxis": {
         "anchor": "y",
         "domain": [
          0,
          1
         ],
         "rangeslider": {
          "thickness": 0.05
         },
         "title": {
          "text": "Date"
         }
        },
        "xaxis2": {
         "anchor": "y2",
         "domain": [
          0,
          1
         ]
        },
        "yaxis": {
         "anchor": "x",
         "domain": [
          0.55,
          1
         ],
         "title": {
          "text": "Prices"
         }
        },
        "yaxis2": {
         "anchor": "x2",
         "domain": [
          0,
          0.45
         ]
        }
       }
      }
     },
     "metadata": {},
     "output_type": "display_data"
    }
   ],
   "source": [
    "stock_purchase = 200\n",
    "cash = 100000\n",
    "stock = 0\n",
    "log = []\n",
    "\n",
    "for i in range(len(df)):\n",
    "        if cash > 0 and stock < 500 and df[\"low\"][i] <= df['3_SMA_l'][i] <= df['high'][i]:\n",
    "                # buy\n",
    "                stock += stock_purchase\n",
    "                cash -= stock_purchase * df['3_SMA_l'][i]    \n",
    "        elif stock and df[\"low\"][i] <= df['3_SMA_h'][i] <= df['high'][i]:\n",
    "                # sell\n",
    "                cash += stock * df['3_SMA_h'][i]\n",
    "                stock = 0\n",
    "        equity = cash + stock * df['close'][i]\n",
    "        log.append(equity)\n",
    "\n",
    "fig = make_subplots(rows=2, cols=1, shared_xaxes=False, vertical_spacing=0.1)\n",
    "\n",
    "# include candlestick with rangeselector\n",
    "fig.append_trace(go.Candlestick(x=df['timestamp'], open=df['open'], high=df['high'], \n",
    "low=df['low'], close=df['close']), row=1, col=1)\n",
    "\n",
    "fig.append_trace(go.Scatter(x=df['timestamp'],y=log), \n",
    "        row=2, col=1)\n",
    "\n",
    "fig.update_xaxes(row=1, col=1, rangeslider_thickness=0.05)\n",
    "fig.update_layout(title= stock,\n",
    "                      width=900, height=900,\n",
    "                      xaxis_title='Date',\n",
    "                      yaxis_title='Prices')\n",
    "fig.show()"
   ]
  }
 ],
 "metadata": {
  "interpreter": {
   "hash": "b0fa6594d8f4cbf19f97940f81e996739fb7646882a419484c72d19e05852a7e"
  },
  "kernelspec": {
   "display_name": "Python 3.9.7 64-bit",
   "language": "python",
   "name": "python3"
  },
  "language_info": {
   "codemirror_mode": {
    "name": "ipython",
    "version": 3
   },
   "file_extension": ".py",
   "mimetype": "text/x-python",
   "name": "python",
   "nbconvert_exporter": "python",
   "pygments_lexer": "ipython3",
   "version": "3.9.7"
  },
  "orig_nbformat": 4
 },
 "nbformat": 4,
 "nbformat_minor": 2
}
